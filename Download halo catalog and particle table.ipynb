{
 "cells": [
  {
   "cell_type": "code",
   "execution_count": 4,
   "metadata": {
    "collapsed": false,
    "scrolled": false
   },
   "outputs": [
    {
     "name": "stdout",
     "output_type": "stream",
     "text": [
      "\n",
      "... Downloading data from the following location: \n",
      "http://www.astro.yale.edu/aphearin/Data_files/halo_catalogs/consuelo/rockstar/hlist_1.00000.list.halotools_v0p4.hdf5\n",
      "\n",
      " ... Saving the data with the following filename: \n",
      "/home/kuw8/.astropy/cache/halotools/halo_catalogs/consuelo/rockstar/hlist_1.00000.list.halotools_v0p4.hdf5\n",
      "\n",
      "5% complete, elapsed time = 2 seconds\n",
      "10% complete, elapsed time = 4 seconds\n",
      "15% complete, elapsed time = 6 seconds\n",
      "20% complete, elapsed time = 8 seconds\n",
      "25% complete, elapsed time = 10 seconds\n",
      "30% complete, elapsed time = 12 seconds\n",
      "35% complete, elapsed time = 14 seconds\n",
      "40% complete, elapsed time = 16 seconds\n",
      "45% complete, elapsed time = 18 seconds\n",
      "50% complete, elapsed time = 20 seconds\n",
      "55% complete, elapsed time = 22 seconds\n",
      "60% complete, elapsed time = 24 seconds\n",
      "65% complete, elapsed time = 26 seconds\n",
      "70% complete, elapsed time = 28 seconds\n",
      "75% complete, elapsed time = 30 seconds\n",
      "80% complete, elapsed time = 32 seconds\n",
      "85% complete, elapsed time = 34 seconds\n",
      "90% complete, elapsed time = 36 seconds\n",
      "95% complete, elapsed time = 38 seconds\n",
      "\n",
      "Total runtime to download pre-processed halo catalog = 39.7 seconds\n",
      "\n",
      "\n",
      "The halo catalog has been successfully downloaded to the following location:\n",
      "/home/kuw8/.astropy/cache/halotools/halo_catalogs/consuelo/rockstar/hlist_1.00000.list.halotools_v0p4.hdf5\n",
      "\n",
      "This filename and its associated metadata have also been added to the Halotools cache log, \n",
      "as reflected by a newly added line to the following ASCII file:\n",
      "\n",
      "/home/kuw8/.astropy/cache/halotools/halo_table_cache_log.txt\n",
      "\n",
      "Since the catalog will now be recognized in cache, \n",
      "you can load it into memory using the following syntax:\n",
      "\n",
      ">>> from halotools.sim_manager import CachedHaloCatalog \n",
      ">>> halocat = CachedHaloCatalog(simname = 'consuelo', halo_finder = 'rockstar', version_name = 'halotools_v0p4', redshift = 0.0000) \n",
      "\n",
      "For convenience, you can set this catalog to be your default catalog \n",
      "and omit the CachedHaloCatalog constructor arguments.\n",
      "To do that, change the following variables in the \n",
      "halotools.sim_manager.sim_defaults module:\n",
      "``default_simname``, ``default_halo_finder``, ``default_version_name`` and ``default_redshift``.\n",
      "\n",
      "Tabular data storing the actual halos is bound to the ``halo_table`` \n",
      "attribute of ``halocat`` in the form of an Astropy Table:\n",
      "\n",
      ">>> halos = halocat.halo_table \n",
      "\n",
      "Halo properties are accessed in the same manner as a python dictionary or Numpy structured array:\n",
      "\n",
      ">>> mass_array = halos['halo_mvir'] \n",
      "\n",
      "The ``halocat`` object also contains additional metadata \n",
      "such as ``halocat.simname``, ``halocat.redshift`` and ``halocat.fname`` \n",
      "that you can use for sanity checks on your bookkeeping.\n",
      "\n",
      "Note that if you move this halo catalog into a new location on disk, \n",
      "you must update both the ``fname`` metadata of the hdf5 file \n",
      "as well as the``fname`` column of the corresponding entry in the log. \n",
      "You can accomplish this with the ``update_cached_file_location``method \n",
      "of the HaloTableCache class.\n",
      "\n",
      "\n"
     ]
    }
   ],
   "source": [
    "from halotools.sim_manager import DownloadManager\n",
    "dman = DownloadManager()\n",
    "dman.download_processed_halo_table('consuelo', 'rockstar', 0.0)"
   ]
  },
  {
   "cell_type": "code",
   "execution_count": 5,
   "metadata": {
    "collapsed": false
   },
   "outputs": [
    {
     "name": "stdout",
     "output_type": "stream",
     "text": [
      "\n",
      "... Downloading data from the following location: \n",
      "http://www.astro.yale.edu/aphearin/Data_files/particle_catalogs/consuelo/hlist_1.00000.particles.halotools_v0p4.hdf5\n",
      "\n",
      " ... Saving the data with the following filename: \n",
      "/home/kuw8/.astropy/cache/halotools/particle_catalogs/consuelo/hlist_1.00000.particles.halotools_v0p4.hdf5\n",
      "\n",
      "5% complete, elapsed time = 1 seconds\n",
      "10% complete, elapsed time = 2 seconds\n",
      "15% complete, elapsed time = 3 seconds\n",
      "20% complete, elapsed time = 4 seconds\n",
      "25% complete, elapsed time = 5 seconds\n",
      "30% complete, elapsed time = 6 seconds\n",
      "35% complete, elapsed time = 7 seconds\n",
      "40% complete, elapsed time = 8 seconds\n",
      "45% complete, elapsed time = 9 seconds\n",
      "50% complete, elapsed time = 10 seconds\n",
      "55% complete, elapsed time = 11 seconds\n",
      "60% complete, elapsed time = 12 seconds\n",
      "65% complete, elapsed time = 13 seconds\n",
      "70% complete, elapsed time = 14 seconds\n",
      "75% complete, elapsed time = 15 seconds\n",
      "80% complete, elapsed time = 16 seconds\n",
      "85% complete, elapsed time = 17 seconds\n",
      "90% complete, elapsed time = 18 seconds\n",
      "95% complete, elapsed time = 19 seconds\n",
      "\n",
      "The particle catalog has been successfully downloaded to the following location:\n",
      "/home/kuw8/.astropy/cache/halotools/particle_catalogs/consuelo/hlist_1.00000.particles.halotools_v0p4.hdf5\n",
      "\n",
      "This filename and its associated metadata have also been added to the Halotools cache log, \n",
      "as reflected by a newly added line to the following ASCII file:\n",
      "\n",
      "/home/kuw8/.astropy/cache/halotools/ptcl_table_cache_log.txt\n",
      "\n",
      "You can access the particle data with the following syntax:\n",
      "\n",
      ">>> from halotools.sim_manager import CachedHaloCatalog \n",
      ">>> halocat = CachedHaloCatalog(simname = 'consuelo', version_name = 'halotools_v0p4', redshift = 0.0000)\n",
      ">>> particles = halocat.ptcl_table \n",
      "\n",
      "Mock observable functions such as the galaxy-galaxy lensing signal \n",
      "can now be computed for mock galaxies populated into this simulation.\n",
      "\n",
      "Note that if you move this particle catalog into a new location on disk, \n",
      "you must update both the ``fname`` metadata of the hdf5 file \n",
      "as well as the``fname`` column of the corresponding entry in the log. \n",
      "You can accomplish this with the ``update_cached_file_location``method \n",
      "of the PtclTableCache class.\n",
      "\n",
      "\n"
     ]
    }
   ],
   "source": [
    "dman.download_ptcl_table(simname='consuelo', redshift=0.0) "
   ]
  },
  {
   "cell_type": "code",
   "execution_count": null,
   "metadata": {
    "collapsed": true
   },
   "outputs": [],
   "source": []
  }
 ],
 "metadata": {
  "anaconda-cloud": {},
  "kernelspec": {
   "display_name": "Python [conda root]",
   "language": "python",
   "name": "conda-root-py"
  },
  "language_info": {
   "codemirror_mode": {
    "name": "ipython",
    "version": 2
   },
   "file_extension": ".py",
   "mimetype": "text/x-python",
   "name": "python",
   "nbconvert_exporter": "python",
   "pygments_lexer": "ipython2",
   "version": "2.7.12"
  }
 },
 "nbformat": 4,
 "nbformat_minor": 1
}
