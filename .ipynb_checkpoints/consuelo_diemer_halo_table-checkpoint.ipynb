{
 "cells": [
  {
   "cell_type": "code",
   "execution_count": 1,
   "metadata": {
    "collapsed": true
   },
   "outputs": [],
   "source": [
    "from halotools.sim_manager import CachedHaloCatalog\n",
    "\n",
    "halocat = CachedHaloCatalog(simname = 'consuelo20', version_name = '0_4001',redshift = 0, \\\n",
    "                            halo_finder = 'rockstar')"
   ]
  },
  {
   "cell_type": "code",
   "execution_count": 2,
   "metadata": {
    "collapsed": true
   },
   "outputs": [],
   "source": [
    "halocat_bolplanck = CachedHaloCatalog(simname = 'bolplanck', version_name = 'halotools_v0p4',redshift = 0, \\\n",
    "                            halo_finder = 'rockstar')"
   ]
  },
  {
   "cell_type": "code",
   "execution_count": 3,
   "metadata": {
    "collapsed": true
   },
   "outputs": [],
   "source": [
    "keys_consuelo = halocat.halo_table.keys()"
   ]
  },
  {
   "cell_type": "code",
   "execution_count": 4,
   "metadata": {
    "collapsed": true
   },
   "outputs": [],
   "source": [
    "keys_bolplanck = halocat_bolplanck.halo_table.keys()"
   ]
  },
  {
   "cell_type": "code",
   "execution_count": 5,
   "metadata": {
    "collapsed": false
   },
   "outputs": [
    {
     "name": "stdout",
     "output_type": "stream",
     "text": [
      "common keys:\n",
      "halo_dmvir_dt_tdyn\n",
      "halo_macc\n",
      "halo_scale_factor\n",
      "halo_spin\n",
      "halo_scale_factor_last_mm\n",
      "halo_pid\n",
      "halo_id\n",
      "halo_halfmass_scale_factor\n",
      "halo_upid\n",
      "halo_rvir\n",
      "halo_vpeak\n",
      "halo_dmvir_dt_100myr\n",
      "halo_mpeak\n",
      "halo_jx\n",
      "halo_jy\n",
      "halo_jz\n",
      "halo_mvir\n",
      "halo_y\n",
      "halo_x\n",
      "halo_z\n",
      "halo_vacc\n",
      "halo_vmax\n",
      "halo_vx\n",
      "halo_vy\n",
      "halo_vz\n",
      "halo_dmvir_dt_inst\n",
      "halo_rs\n",
      "halo_nfw_conc\n",
      "halo_hostid\n",
      "halo_mvir_host_halo\n",
      "\n",
      "halotools keys:\n",
      "halo_vmax_firstacc\n",
      "halo_vmax_mpeak\n",
      "halo_m_pe_behroozi\n",
      "halo_delta_vmax_behroozi17\n",
      "halo_xoff\n",
      "halo_tidal_force\n",
      "halo_scale_factor_firstacc\n",
      "halo_c_to_a\n",
      "halo_mvir_firstacc\n",
      "halo_tidal_id\n",
      "halo_scale_factor_mpeak\n",
      "halo_m500c\n",
      "halo_t_by_u\n",
      "halo_m_pe_diemer\n",
      "halo_m2500c\n",
      "halo_voff\n",
      "halo_axisA_z\n",
      "halo_axisA_x\n",
      "halo_axisA_y\n",
      "halo_b_to_a\n",
      "halo_m200b\n",
      "halo_scale_factor_lastacc\n",
      "halo_m200c\n",
      "halo_tidal_force_tdyn\n",
      "\n",
      "consuelo keys:\n",
      "halo_vrms\n"
     ]
    }
   ],
   "source": [
    "print 'common keys:'\n",
    "for name in keys_bolplanck:\n",
    "    if name in keys_consuelo:\n",
    "        print name\n",
    "        \n",
    "print '\\nhalotools keys:'\n",
    "for name in keys_bolplanck:\n",
    "    if name not in keys_consuelo:\n",
    "        print name\n",
    "        \n",
    "print '\\nconsuelo keys:'\n",
    "for name in keys_consuelo:\n",
    "    if name not in keys_bolplanck:\n",
    "        print name"
   ]
  },
  {
   "cell_type": "code",
   "execution_count": 6,
   "metadata": {
    "collapsed": false
   },
   "outputs": [
    {
     "data": {
      "text/html": [
       "&lt;Table length=5&gt;\n",
       "<table id=\"table140247816243088\" class=\"table-striped table-bordered table-condensed\">\n",
       "<thead><tr><th>halo_upid</th><th>halo_scale_factor</th><th>halo_y</th><th>halo_dmvir_dt_tdyn</th><th>halo_rvir</th><th>halo_vpeak</th><th>halo_macc</th><th>halo_dmvir_dt_100myr</th><th>halo_mpeak</th><th>halo_jx</th><th>halo_jy</th><th>halo_jz</th><th>halo_mvir</th><th>halo_pid</th><th>halo_halfmass_scale_factor</th><th>halo_spin</th><th>halo_x</th><th>halo_z</th><th>halo_vacc</th><th>halo_scale_factor_last_mm</th><th>halo_vmax</th><th>halo_nfw_conc</th><th>halo_id</th><th>halo_vx</th><th>halo_vy</th><th>halo_vz</th><th>halo_dmvir_dt_inst</th><th>halo_vrms</th><th>halo_rs</th><th>halo_hostid</th><th>halo_mvir_host_halo</th></tr></thead>\n",
       "<thead><tr><th>float64</th><th>float64</th><th>float64</th><th>float64</th><th>float64</th><th>float64</th><th>float64</th><th>float64</th><th>float64</th><th>float64</th><th>float64</th><th>float64</th><th>float64</th><th>float64</th><th>float64</th><th>float64</th><th>float64</th><th>float64</th><th>float64</th><th>float64</th><th>float64</th><th>float64</th><th>int64</th><th>float64</th><th>float64</th><th>float64</th><th>float64</th><th>float64</th><th>float64</th><th>int64</th><th>float64</th></tr></thead>\n",
       "<tr><td>-1.0</td><td>1.0</td><td>67.77184</td><td>58610.0</td><td>1.679949</td><td>1373.4</td><td>5.193e+14</td><td>60920.0</td><td>5.193e+14</td><td>-1.262e+16</td><td>6.145e+15</td><td>1.634e+16</td><td>5.193e+14</td><td>-1.0</td><td>0.5773</td><td>0.028</td><td>215.5239</td><td>395.20154</td><td>1230.37</td><td>0.5478</td><td>1230.37</td><td>5.16605369169</td><td>606949868</td><td>139.05</td><td>214.51</td><td>267.84</td><td>60450.0</td><td>1340.86</td><td>0.32519</td><td>606949868</td><td>5.193e+14</td></tr>\n",
       "<tr><td>-1.0</td><td>1.0</td><td>56.29265</td><td>2248.0</td><td>1.429999</td><td>1292.02</td><td>3.203e+14</td><td>3197.0</td><td>3.209e+14</td><td>-1.283e+15</td><td>1.125e+16</td><td>-1.415e+16</td><td>3.203e+14</td><td>-1.0</td><td>0.4807</td><td>0.06335</td><td>154.27783</td><td>313.29968</td><td>1180.23</td><td>0.4682</td><td>1180.23</td><td>9.9030401662</td><td>605242061</td><td>49.92</td><td>34.37</td><td>-41.52</td><td>3297.0</td><td>1166.79</td><td>0.1444</td><td>605242061</td><td>3.203e+14</td></tr>\n",
       "<tr><td>-1.0</td><td>1.0</td><td>135.0022</td><td>56630.0</td><td>1.374634</td><td>1068.14</td><td>2.845e+14</td><td>30280.0</td><td>2.845e+14</td><td>-6.778e+15</td><td>-3.053e+16</td><td>2.133e+16</td><td>2.845e+14</td><td>-1.0</td><td>0.7902</td><td>0.14463</td><td>141.73158</td><td>296.90988</td><td>1068.14</td><td>0.9428</td><td>1068.14</td><td>7.38296363929</td><td>605606359</td><td>-630.67</td><td>-199.85</td><td>-302.02</td><td>31870.0</td><td>1191.06</td><td>0.18619</td><td>605606359</td><td>2.845e+14</td></tr>\n",
       "<tr><td>-1.0</td><td>1.0</td><td>0.66856</td><td>10930.0</td><td>1.367247</td><td>1092.96</td><td>2.799e+14</td><td>4296.0</td><td>2.799e+14</td><td>-7.795e+15</td><td>2.964e+14</td><td>-6.427e+14</td><td>2.799e+14</td><td>-1.0</td><td>0.5624</td><td>0.03007</td><td>141.34628</td><td>386.51648</td><td>1048.46</td><td>0.3604</td><td>1048.46</td><td>6.87283283485</td><td>605293650</td><td>-80.56</td><td>-435.07</td><td>-129.4</td><td>4396.0</td><td>1096.43</td><td>0.198935</td><td>605293650</td><td>2.799e+14</td></tr>\n",
       "<tr><td>-1.0</td><td>1.0</td><td>126.58434</td><td>5066.0</td><td>1.165508</td><td>904.66</td><td>1.734e+14</td><td>7790.0</td><td>1.734e+14</td><td>2.319e+15</td><td>1.665e+15</td><td>5.636e+15</td><td>1.734e+14</td><td>-1.0</td><td>0.5773</td><td>0.05681</td><td>234.23222</td><td>417.52896</td><td>878.86</td><td>0.4562</td><td>878.86</td><td>6.2395700053</td><td>607358466</td><td>155.6</td><td>369.74</td><td>552.0</td><td>7694.0</td><td>947.16</td><td>0.186793</td><td>607358466</td><td>1.734e+14</td></tr>\n",
       "</table>"
      ],
      "text/plain": [
       "<Table length=5>\n",
       "halo_upid halo_scale_factor   halo_y  ... halo_hostid halo_mvir_host_halo\n",
       " float64       float64       float64  ...    int64          float64      \n",
       "--------- ----------------- --------- ... ----------- -------------------\n",
       "     -1.0               1.0  67.77184 ...   606949868           5.193e+14\n",
       "     -1.0               1.0  56.29265 ...   605242061           3.203e+14\n",
       "     -1.0               1.0  135.0022 ...   605606359           2.845e+14\n",
       "     -1.0               1.0   0.66856 ...   605293650           2.799e+14\n",
       "     -1.0               1.0 126.58434 ...   607358466           1.734e+14"
      ]
     },
     "execution_count": 6,
     "metadata": {},
     "output_type": "execute_result"
    }
   ],
   "source": [
    "halocat.halo_table[:5]"
   ]
  },
  {
   "cell_type": "code",
   "execution_count": 7,
   "metadata": {
    "collapsed": false
   },
   "outputs": [
    {
     "data": {
      "text/html": [
       "&lt;Table length=5&gt;\n",
       "<table id=\"table140244899237392\" class=\"table-striped table-bordered table-condensed\">\n",
       "<thead><tr><th>halo_vmax_firstacc</th><th>halo_dmvir_dt_tdyn</th><th>halo_macc</th><th>halo_scale_factor</th><th>halo_vmax_mpeak</th><th>halo_m_pe_behroozi</th><th>halo_delta_vmax_behroozi17</th><th>halo_xoff</th><th>halo_spin</th><th>halo_tidal_force</th><th>halo_scale_factor_firstacc</th><th>halo_c_to_a</th><th>halo_mvir_firstacc</th><th>halo_scale_factor_last_mm</th><th>halo_tidal_id</th><th>halo_scale_factor_mpeak</th><th>halo_pid</th><th>halo_m500c</th><th>halo_id</th><th>halo_halfmass_scale_factor</th><th>halo_upid</th><th>halo_t_by_u</th><th>halo_rvir</th><th>halo_vpeak</th><th>halo_dmvir_dt_100myr</th><th>halo_mpeak</th><th>halo_m_pe_diemer</th><th>halo_jx</th><th>halo_jy</th><th>halo_jz</th><th>halo_m2500c</th><th>halo_mvir</th><th>halo_voff</th><th>halo_axisA_z</th><th>halo_axisA_x</th><th>halo_axisA_y</th><th>halo_y</th><th>halo_b_to_a</th><th>halo_x</th><th>halo_z</th><th>halo_m200b</th><th>halo_vacc</th><th>halo_scale_factor_lastacc</th><th>halo_vmax</th><th>halo_m200c</th><th>halo_vx</th><th>halo_vy</th><th>halo_vz</th><th>halo_dmvir_dt_inst</th><th>halo_tidal_force_tdyn</th><th>halo_rs</th><th>halo_nfw_conc</th><th>halo_hostid</th><th>halo_mvir_host_halo</th></tr></thead>\n",
       "<thead><tr><th>float32</th><th>float32</th><th>float32</th><th>float32</th><th>float32</th><th>float32</th><th>float32</th><th>float32</th><th>float32</th><th>float32</th><th>float32</th><th>float32</th><th>float32</th><th>float32</th><th>int64</th><th>float32</th><th>int64</th><th>float32</th><th>int64</th><th>float32</th><th>int64</th><th>float32</th><th>float32</th><th>float32</th><th>float32</th><th>float32</th><th>float32</th><th>float32</th><th>float32</th><th>float32</th><th>float32</th><th>float32</th><th>float32</th><th>float32</th><th>float32</th><th>float32</th><th>float32</th><th>float32</th><th>float32</th><th>float32</th><th>float32</th><th>float32</th><th>float32</th><th>float32</th><th>float32</th><th>float32</th><th>float32</th><th>float32</th><th>float32</th><th>float32</th><th>float32</th><th>float32</th><th>int64</th><th>float32</th></tr></thead>\n",
       "<tr><td>1001.57</td><td>12810.0</td><td>2.008e+14</td><td>1.00231</td><td>1001.57</td><td>2.027e+14</td><td>-0.0026</td><td>0.0257357</td><td>0.02391</td><td>0.11954</td><td>1.00231</td><td>0.47559</td><td>2.008e+14</td><td>0.28343</td><td>2812606193</td><td>1.002</td><td>-1</td><td>1.1658e+14</td><td>2811042639</td><td>0.41506</td><td>-1</td><td>0.593</td><td>1.19045</td><td>1091.38</td><td>17390.0</td><td>2.008e+14</td><td>1.118e+14</td><td>2.536e+15</td><td>-4.744e+14</td><td>-6.566e+15</td><td>6.5777e+13</td><td>2.008e+14</td><td>21.34</td><td>19.2231</td><td>59.7891</td><td>-18.8001</td><td>43.1408</td><td>0.63663</td><td>36.1798</td><td>17.9634</td><td>2.2378e+14</td><td>1001.57</td><td>1.00231</td><td>1001.57</td><td>1.5824e+14</td><td>16.1</td><td>8.51</td><td>-78.88</td><td>17390.0</td><td>0.12244</td><td>0.137953</td><td>8.62937</td><td>2811042639</td><td>2.008e+14</td></tr>\n",
       "<tr><td>895.2</td><td>13760.0</td><td>1.796e+14</td><td>1.00231</td><td>895.2</td><td>1.81e+14</td><td>-0.01065</td><td>0.041987</td><td>0.06297</td><td>0.50587</td><td>1.00231</td><td>0.56181</td><td>1.796e+14</td><td>0.29862</td><td>2811077105</td><td>1.002</td><td>-1</td><td>1.0036e+14</td><td>2811055606</td><td>0.50618</td><td>-1</td><td>0.627</td><td>1.14685</td><td>969.05</td><td>7324.0</td><td>1.796e+14</td><td>1.287e+14</td><td>1.074e+16</td><td>4.931e+15</td><td>-1.185e+16</td><td>4.7026e+13</td><td>1.796e+14</td><td>41.91</td><td>41.2062</td><td>34.6803</td><td>17.8882</td><td>49.5442</td><td>0.8397</td><td>45.3664</td><td>40.0159</td><td>2.0446e+14</td><td>895.2</td><td>1.00231</td><td>895.2</td><td>1.4229e+14</td><td>2.46</td><td>264.77</td><td>-128.08</td><td>7324.0</td><td>0.491</td><td>0.185805</td><td>6.17233</td><td>2811055606</td><td>1.796e+14</td></tr>\n",
       "<tr><td>853.83</td><td>4666.0</td><td>1.298e+14</td><td>1.00231</td><td>853.83</td><td>1.495e+14</td><td>0.00531</td><td>0.0264619</td><td>0.03607</td><td>0.07568</td><td>1.00231</td><td>0.66381</td><td>1.298e+14</td><td>0.49606</td><td>2810630242</td><td>1.002</td><td>-1</td><td>8.7766e+13</td><td>2809250167</td><td>0.491</td><td>-1</td><td>0.5774</td><td>1.02934</td><td>926.37</td><td>2747.0</td><td>1.298e+14</td><td>8.032e+13</td><td>2.133e+15</td><td>-3.236e+15</td><td>-3.111e+15</td><td>3.9496e+13</td><td>1.298e+14</td><td>23.35</td><td>-17.5268</td><td>38.9596</td><td>24.3626</td><td>13.8826</td><td>0.76149</td><td>22.0232</td><td>9.80153</td><td>1.4121e+14</td><td>853.83</td><td>1.00231</td><td>853.83</td><td>1.1201e+14</td><td>18.49</td><td>124.89</td><td>-35.19</td><td>2747.0</td><td>0.10074</td><td>0.119294</td><td>8.62862</td><td>2809250167</td><td>1.298e+14</td></tr>\n",
       "<tr><td>777.64</td><td>4401.0</td><td>1.03e+14</td><td>1.00231</td><td>777.64</td><td>1.048e+14</td><td>0.00498</td><td>0.0516998</td><td>0.05031</td><td>0.09677</td><td>1.00231</td><td>0.47302</td><td>1.03e+14</td><td>0.38469</td><td>2820592816</td><td>1.002</td><td>-1</td><td>5.7781e+13</td><td>2809483946</td><td>0.65806</td><td>-1</td><td>0.6152</td><td>0.952978</td><td>831.17</td><td>2747.0</td><td>1.03e+14</td><td>6.42e+13</td><td>1.713e+15</td><td>-1.488e+15</td><td>4.582e+15</td><td>3.0529e+13</td><td>1.03e+14</td><td>98.45</td><td>24.7744</td><td>-10.3568</td><td>38.9949</td><td>36.6788</td><td>0.7881</td><td>12.2979</td><td>34.1809</td><td>1.1511e+14</td><td>777.64</td><td>1.00231</td><td>777.64</td><td>8.2069e+13</td><td>-281.37</td><td>-115.39</td><td>-391.28</td><td>2747.0</td><td>0.10259</td><td>0.132334</td><td>7.20131</td><td>2809483946</td><td>1.03e+14</td></tr>\n",
       "<tr><td>748.56</td><td>11480.0</td><td>9.947e+13</td><td>1.00231</td><td>748.56</td><td>1.076e+14</td><td>0.05989</td><td>0.0779697</td><td>0.0348</td><td>0.12465</td><td>1.00231</td><td>0.47409</td><td>9.947e+13</td><td>0.63275</td><td>2809483946</td><td>1.002</td><td>-1</td><td>5.91e+13</td><td>2809272603</td><td>0.63781</td><td>-1</td><td>0.67</td><td>0.941893</td><td>748.56</td><td>5218.0</td><td>9.947e+13</td><td>7.097e+13</td><td>1.207e+15</td><td>-2.126e+15</td><td>-2.677e+15</td><td>2.6267e+13</td><td>9.947e+13</td><td>118.79</td><td>29.2183</td><td>52.7796</td><td>6.18836</td><td>26.1288</td><td>0.66155</td><td>10.6604</td><td>22.5009</td><td>1.0811e+14</td><td>748.56</td><td>1.00231</td><td>748.56</td><td>8.4337e+13</td><td>-43.87</td><td>292.95</td><td>-171.47</td><td>5218.0</td><td>0.1579</td><td>0.14077</td><td>6.69101</td><td>2809272603</td><td>9.947e+13</td></tr>\n",
       "</table>"
      ],
      "text/plain": [
       "<Table length=5>\n",
       "halo_vmax_firstacc halo_dmvir_dt_tdyn ... halo_hostid halo_mvir_host_halo\n",
       "     float32            float32       ...    int64          float32      \n",
       "------------------ ------------------ ... ----------- -------------------\n",
       "           1001.57            12810.0 ...  2811042639           2.008e+14\n",
       "             895.2            13760.0 ...  2811055606           1.796e+14\n",
       "            853.83             4666.0 ...  2809250167           1.298e+14\n",
       "            777.64             4401.0 ...  2809483946            1.03e+14\n",
       "            748.56            11480.0 ...  2809272603           9.947e+13"
      ]
     },
     "execution_count": 7,
     "metadata": {},
     "output_type": "execute_result"
    }
   ],
   "source": [
    "halocat_bolplanck.halo_table[:5]"
   ]
  },
  {
   "cell_type": "code",
   "execution_count": 8,
   "metadata": {
    "collapsed": false
   },
   "outputs": [],
   "source": [
    "halocat_4038 = CachedHaloCatalog(simname = 'consuelo20', version_name = '0_4038',redshift = 0, \\\n",
    "                            halo_finder = 'rockstar')"
   ]
  },
  {
   "cell_type": "code",
   "execution_count": 9,
   "metadata": {
    "collapsed": true
   },
   "outputs": [],
   "source": [
    "keys_c4038 = halocat_4038.halo_table.keys()"
   ]
  },
  {
   "cell_type": "code",
   "execution_count": 10,
   "metadata": {
    "collapsed": false
   },
   "outputs": [
    {
     "name": "stdout",
     "output_type": "stream",
     "text": [
      "\n",
      "keys missing in 4038:\n",
      "halo_dmvir_dt_tdyn\n",
      "halo_dmvir_dt_100myr\n",
      "halo_halfmass_scale_factor\n",
      "halo_dmvir_dt_inst\n"
     ]
    }
   ],
   "source": [
    "print '\\nkeys missing in 4038:'\n",
    "for name in keys_consuelo:\n",
    "    if name not in keys_c4038:\n",
    "        print name"
   ]
  },
  {
   "cell_type": "code",
   "execution_count": 11,
   "metadata": {
    "collapsed": false
   },
   "outputs": [
    {
     "data": {
      "text/html": [
       "&lt;Table length=5&gt;\n",
       "<table id=\"table140244898885136\" class=\"table-striped table-bordered table-condensed\">\n",
       "<thead><tr><th>halo_upid</th><th>halo_scale_factor</th><th>halo_rvir</th><th>halo_vpeak</th><th>halo_macc</th><th>halo_mpeak</th><th>halo_jx</th><th>halo_jy</th><th>halo_jz</th><th>halo_mvir</th><th>halo_spin</th><th>halo_y</th><th>halo_pid</th><th>halo_x</th><th>halo_z</th><th>halo_vacc</th><th>halo_scale_factor_last_mm</th><th>halo_vmax</th><th>halo_nfw_conc</th><th>halo_id</th><th>halo_vx</th><th>halo_vy</th><th>halo_vz</th><th>halo_vrms</th><th>halo_rs</th><th>halo_hostid</th><th>halo_mvir_host_halo</th></tr></thead>\n",
       "<thead><tr><th>float64</th><th>float64</th><th>float64</th><th>float64</th><th>float64</th><th>float64</th><th>float64</th><th>float64</th><th>float64</th><th>float64</th><th>float64</th><th>float64</th><th>float64</th><th>float64</th><th>float64</th><th>float64</th><th>float64</th><th>float64</th><th>float64</th><th>int64</th><th>float64</th><th>float64</th><th>float64</th><th>float64</th><th>float64</th><th>int64</th><th>float64</th></tr></thead>\n",
       "<tr><td>-1.0</td><td>1.0</td><td>1.527088</td><td>1253.6</td><td>3.9e+14</td><td>3.9e+14</td><td>2.669e+16</td><td>1.777e+16</td><td>-1.062e+16</td><td>3.9e+14</td><td>0.07412</td><td>160.33102</td><td>-1.0</td><td>395.15012</td><td>181.75948</td><td>1253.6</td><td>0.3899</td><td>1253.6</td><td>9.65185789138</td><td>608824631</td><td>97.5</td><td>-94.28</td><td>285.19</td><td>1130.94</td><td>0.158217</td><td>608824631</td><td>3.9e+14</td></tr>\n",
       "<tr><td>-1.0</td><td>1.0</td><td>1.416257</td><td>972.06</td><td>3.111e+14</td><td>3.111e+14</td><td>1.137e+16</td><td>-1.846e+15</td><td>-4.861e+16</td><td>3.111e+14</td><td>0.16051</td><td>149.93251</td><td>-1.0</td><td>401.48401</td><td>186.04437</td><td>972.06</td><td>0.3511</td><td>972.06</td><td>2.16283530463</td><td>608824308</td><td>250.69</td><td>-696.34</td><td>-5.74</td><td>951.24</td><td>0.654815</td><td>608824308</td><td>3.111e+14</td></tr>\n",
       "<tr><td>-1.0</td><td>1.0</td><td>1.36159</td><td>1151.89</td><td>2.765e+14</td><td>2.765e+14</td><td>-5.641e+15</td><td>-1.323e+16</td><td>-2.654e+15</td><td>2.765e+14</td><td>0.05868</td><td>162.56386</td><td>-1.0</td><td>419.785</td><td>253.59302</td><td>1075.52</td><td>0.0</td><td>1075.52</td><td>8.03686739308</td><td>608875532</td><td>81.88</td><td>-60.5</td><td>-111.87</td><td>1040.51</td><td>0.169418</td><td>608875532</td><td>2.765e+14</td></tr>\n",
       "<tr><td>-1.0</td><td>1.0</td><td>1.265741</td><td>1118.19</td><td>2.52272e+14</td><td>2.52272e+14</td><td>7.61e+14</td><td>-1.787e+15</td><td>-7.645e+15</td><td>2.52272e+14</td><td>0.04522</td><td>202.44554</td><td>-1.0</td><td>340.13675</td><td>257.63211</td><td>967.37</td><td>0.8111</td><td>967.37</td><td>6.73908135938</td><td>608875732</td><td>6.04</td><td>7.61</td><td>275.89</td><td>829.72</td><td>0.187821</td><td>608875732</td><td>2.52272e+14</td></tr>\n",
       "<tr><td>-1.0</td><td>1.0</td><td>1.23529</td><td>1015.98</td><td>2.065e+14</td><td>2.065e+14</td><td>1.313e+16</td><td>3.385e+14</td><td>-1.431e+16</td><td>2.065e+14</td><td>0.12448</td><td>144.84813</td><td>-1.0</td><td>393.09549</td><td>199.52295</td><td>880.21</td><td>0.8948</td><td>880.21</td><td>4.1645960953</td><td>608825574</td><td>405.53</td><td>-234.58</td><td>88.96</td><td>865.9</td><td>0.296617</td><td>608825574</td><td>2.065e+14</td></tr>\n",
       "</table>"
      ],
      "text/plain": [
       "<Table length=5>\n",
       "halo_upid halo_scale_factor halo_rvir ... halo_hostid halo_mvir_host_halo\n",
       " float64       float64       float64  ...    int64          float64      \n",
       "--------- ----------------- --------- ... ----------- -------------------\n",
       "     -1.0               1.0  1.527088 ...   608824631             3.9e+14\n",
       "     -1.0               1.0  1.416257 ...   608824308           3.111e+14\n",
       "     -1.0               1.0   1.36159 ...   608875532           2.765e+14\n",
       "     -1.0               1.0  1.265741 ...   608875732         2.52272e+14\n",
       "     -1.0               1.0   1.23529 ...   608825574           2.065e+14"
      ]
     },
     "execution_count": 11,
     "metadata": {},
     "output_type": "execute_result"
    }
   ],
   "source": [
    "halocat_4038.halo_table[:5]"
   ]
  },
  {
   "cell_type": "code",
   "execution_count": 12,
   "metadata": {
    "collapsed": false
   },
   "outputs": [
    {
     "data": {
      "text/plain": [
       "array([ 420.,  420.,  420.])"
      ]
     },
     "execution_count": 12,
     "metadata": {},
     "output_type": "execute_result"
    }
   ],
   "source": [
    "halocat.Lbox"
   ]
  },
  {
   "cell_type": "code",
   "execution_count": 14,
   "metadata": {
    "collapsed": false
   },
   "outputs": [
    {
     "data": {
      "text/plain": [
       "1870000000.0"
      ]
     },
     "execution_count": 14,
     "metadata": {},
     "output_type": "execute_result"
    }
   ],
   "source": [
    "halocat.particle_mass"
   ]
  },
  {
   "cell_type": "code",
   "execution_count": 15,
   "metadata": {
    "collapsed": false
   },
   "outputs": [
    {
     "data": {
      "text/plain": [
       "0.0"
      ]
     },
     "execution_count": 15,
     "metadata": {},
     "output_type": "execute_result"
    }
   ],
   "source": [
    "halocat.redshift"
   ]
  },
  {
   "cell_type": "code",
   "execution_count": 1,
   "metadata": {
    "collapsed": true
   },
   "outputs": [],
   "source": [
    "from halotools.sim_manager import CachedHaloCatalog\n",
    "\n",
    "halocat = CachedHaloCatalog(simname = 'diemerL0250', version_name = 'antonio',redshift = 0, \\\n",
    "                            halo_finder = 'rockstar')"
   ]
  },
  {
   "cell_type": "code",
   "execution_count": 4,
   "metadata": {
    "collapsed": false
   },
   "outputs": [
    {
     "data": {
      "text/plain": [
       "['halo_upid',\n",
       " 'halo_spin_bullock',\n",
       " 'halo_y',\n",
       " 'halo_Az_500c',\n",
       " 'halo_t_by_u',\n",
       " 'halo_rvir',\n",
       " 'halo_b_to_a_500c',\n",
       " 'halo_Ay',\n",
       " 'halo_Ax',\n",
       " 'halo_Az',\n",
       " 'halo_m200b_all',\n",
       " 'halo_jx',\n",
       " 'halo_jy',\n",
       " 'halo_jz',\n",
       " 'halo_m2500c',\n",
       " 'halo_m500c',\n",
       " 'halo_voff',\n",
       " 'halo_Ax_500c',\n",
       " 'halo_c_to_a_500c',\n",
       " 'halo_b_to_a',\n",
       " 'halo_xoff',\n",
       " 'halo_spin',\n",
       " 'halo_x',\n",
       " 'halo_z',\n",
       " 'halo_m200b',\n",
       " 'halo_m200c',\n",
       " 'halo_c_to_a',\n",
       " 'halo_descid',\n",
       " 'halo_vmax',\n",
       " 'halo_rs_klypin',\n",
       " 'halo_rs',\n",
       " 'halo_pid',\n",
       " 'halo_mvir',\n",
       " 'halo_id',\n",
       " 'halo_vx',\n",
       " 'halo_vy',\n",
       " 'halo_vz',\n",
       " 'halo_vrms',\n",
       " 'halo_nfw_conc',\n",
       " 'halo_Ay_500c',\n",
       " 'halo_hostid',\n",
       " 'halo_mvir_host_halo']"
      ]
     },
     "execution_count": 4,
     "metadata": {},
     "output_type": "execute_result"
    }
   ],
   "source": [
    "halocat.halo_table.keys()"
   ]
  },
  {
   "cell_type": "code",
   "execution_count": 2,
   "metadata": {
    "collapsed": false
   },
   "outputs": [
    {
     "data": {
      "text/html": [
       "&lt;Table length=2501871&gt;\n",
       "<table id=\"table139997560645776\" class=\"table-striped table-bordered table-condensed\">\n",
       "<thead><tr><th>halo_upid</th><th>halo_spin_bullock</th><th>halo_y</th><th>halo_Az_500c</th><th>halo_t_by_u</th><th>halo_rvir</th><th>halo_b_to_a_500c</th><th>halo_Ay</th><th>halo_Ax</th><th>halo_Az</th><th>halo_m200b_all</th><th>halo_jx</th><th>halo_jy</th><th>halo_jz</th><th>halo_m2500c</th><th>halo_m500c</th><th>halo_voff</th><th>halo_Ax_500c</th><th>halo_c_to_a_500c</th><th>halo_b_to_a</th><th>halo_xoff</th><th>halo_spin</th><th>halo_x</th><th>halo_z</th><th>halo_m200b</th><th>halo_m200c</th><th>halo_c_to_a</th><th>halo_descid</th><th>halo_vmax</th><th>halo_rs_klypin</th><th>halo_rs</th><th>halo_pid</th><th>halo_mvir</th><th>halo_id</th><th>halo_vx</th><th>halo_vy</th><th>halo_vz</th><th>halo_vrms</th><th>halo_nfw_conc</th><th>halo_Ay_500c</th><th>halo_hostid</th><th>halo_mvir_host_halo</th></tr></thead>\n",
       "<thead><tr><th>int64</th><th>float64</th><th>float64</th><th>float64</th><th>float64</th><th>float64</th><th>float64</th><th>float64</th><th>float64</th><th>float64</th><th>float64</th><th>float64</th><th>float64</th><th>float64</th><th>float64</th><th>float64</th><th>float64</th><th>float64</th><th>float64</th><th>float64</th><th>float64</th><th>float64</th><th>float64</th><th>float64</th><th>float64</th><th>float64</th><th>float64</th><th>int64</th><th>float64</th><th>float64</th><th>float64</th><th>int64</th><th>float64</th><th>int64</th><th>float64</th><th>float64</th><th>float64</th><th>float64</th><th>float64</th><th>float64</th><th>int64</th><th>float64</th></tr></thead>\n",
       "<tr><td>-1</td><td>0.02598</td><td>3.10772</td><td>4.39429</td><td>0.4841</td><td>0.112058</td><td>0.7388</td><td>-3.85201</td><td>18.66917</td><td>9.97539</td><td>104690000000.0</td><td>-787800000.0</td><td>-2221000000.0</td><td>22540000000.0</td><td>0.0</td><td>68499000000.0</td><td>2.06</td><td>15.09946</td><td>0.1515</td><td>0.7569</td><td>4.75515</td><td>0.02337</td><td>4.5741</td><td>2.66565</td><td>104690000000.0</td><td>93056000000.0</td><td>0.42353</td><td>-1</td><td>80.78</td><td>8.83007</td><td>0.00883</td><td>-1</td><td>104700000000.0</td><td>28687</td><td>89.68</td><td>301.48</td><td>233.1</td><td>67.14</td><td>12.6906002265</td><td>-1.09001</td><td>28687</td><td>104700000000.0</td></tr>\n",
       "<tr><td>-1</td><td>0.02789</td><td>7.67272</td><td>11.85247</td><td>0.6426</td><td>0.209855</td><td>0.86696</td><td>-7.58086</td><td>-3.95734</td><td>22.59739</td><td>687580000000.0</td><td>-396300000000.0</td><td>-344700000000.0</td><td>-124600000000.0</td><td>117610000000.0</td><td>363180000000.0</td><td>9.31</td><td>-0.67129</td><td>0.62011</td><td>0.58382</td><td>23.31432</td><td>0.02019</td><td>6.343</td><td>0.00295</td><td>687580000000.0</td><td>533780000000.0</td><td>0.43887</td><td>-1</td><td>137.27</td><td>25.50443</td><td>0.025907</td><td>-1</td><td>687600000000.0</td><td>19933</td><td>86.15</td><td>350.15</td><td>177.76</td><td>144.04</td><td>8.10032037673</td><td>-8.15862</td><td>19933</td><td>687600000000.0</td></tr>\n",
       "<tr><td>-1</td><td>0.04309</td><td>6.8652</td><td>-6.91502</td><td>0.5857</td><td>0.139121</td><td>0.67759</td><td>-9.92699</td><td>-6.36289</td><td>13.33608</td><td>200330000000.0</td><td>-63330000000.0</td><td>91220000000.0</td><td>20190000000.0</td><td>62037000000.0</td><td>102100000000.0</td><td>4.81</td><td>1.55359</td><td>0.49524</td><td>0.62663</td><td>10.45208</td><td>0.03569</td><td>3.05456</td><td>1.6393</td><td>200330000000.0</td><td>152510000000.0</td><td>0.53134</td><td>-1</td><td>98.52</td><td>11.79735</td><td>0.013428</td><td>-1</td><td>200300000000.0</td><td>25582</td><td>40.5</td><td>359.34</td><td>219.0</td><td>90.93</td><td>10.3605153411</td><td>8.91697</td><td>25582</td><td>200300000000.0</td></tr>\n",
       "<tr><td>-1</td><td>0.06175</td><td>2.18452</td><td>0.0</td><td>0.7498</td><td>0.084717</td><td>0.0</td><td>8.43324</td><td>20.72983</td><td>24.37556</td><td>45235000000.0</td><td>2495000000.0</td><td>3287000000.0</td><td>9995000000.0</td><td>0.0</td><td>0.0</td><td>5.09</td><td>0.0</td><td>0.0</td><td>0.31591</td><td>22.03242</td><td>0.02503</td><td>6.23339</td><td>3.08646</td><td>45235000000.0</td><td>18094000000.0</td><td>0.06061</td><td>-1</td><td>49.62</td><td>20.86485</td><td>0.020865</td><td>-1</td><td>45230000000.0</td><td>33959</td><td>147.71</td><td>268.68</td><td>245.06</td><td>50.61</td><td>4.06024442847</td><td>0.0</td><td>33959</td><td>45230000000.0</td></tr>\n",
       "<tr><td>-1</td><td>0.27034</td><td>1.67234</td><td>0.0</td><td>0.4863</td><td>0.060897</td><td>0.0</td><td>2.89827</td><td>-5.26086</td><td>31.51618</td><td>16802000000.0</td><td>-1417000000.0</td><td>-3004000000.0</td><td>4427000000.0</td><td>0.0</td><td>0.0</td><td>4.07</td><td>0.0</td><td>0.0</td><td>0.09935</td><td>18.30518</td><td>0.08327</td><td>6.64282</td><td>2.30953</td><td>16802000000.0</td><td>0.0</td><td>0.0</td><td>-1</td><td>33.53</td><td>18.29449</td><td>0.018294</td><td>-1</td><td>16800000000.0</td><td>44661</td><td>146.03</td><td>259.07</td><td>270.56</td><td>26.76</td><td>3.32879632666</td><td>0.0</td><td>44661</td><td>16800000000.0</td></tr>\n",
       "<tr><td>-1</td><td>0.18047</td><td>1.83307</td><td>0.0</td><td>0.7833</td><td>0.063872</td><td>0.0</td><td>29.28237</td><td>-14.65093</td><td>2.30922</td><td>19387000000.0</td><td>5407000000.0</td><td>1234000000.0</td><td>4688000000.0</td><td>0.0</td><td>1292400000.0</td><td>4.49</td><td>0.0</td><td>0.0</td><td>0.60567</td><td>18.07347</td><td>0.05824</td><td>2.15212</td><td>2.60104</td><td>19387000000.0</td><td>5169800000.0</td><td>0.5544</td><td>-1</td><td>36.5</td><td>21.12104</td><td>0.021121</td><td>-1</td><td>19390000000.0</td><td>44662</td><td>36.39</td><td>279.13</td><td>210.26</td><td>36.23</td><td>3.02409923773</td><td>0.0</td><td>44662</td><td>19390000000.0</td></tr>\n",
       "<tr><td>-1</td><td>0.02977</td><td>2.17014</td><td>1.86457</td><td>0.5136</td><td>0.11476</td><td>0.86654</td><td>-3.92684</td><td>-5.04103</td><td>6.61009</td><td>112440000000.0</td><td>21400000000.0</td><td>11600000000.0</td><td>15540000000.0</td><td>32311000000.0</td><td>73669000000.0</td><td>1.58</td><td>-3.31818</td><td>0.54145</td><td>0.95667</td><td>7.35138</td><td>0.02762</td><td>0.07603</td><td>2.5267</td><td>112440000000.0</td><td>95641000000.0</td><td>0.71704</td><td>-1</td><td>85.72</td><td>7.85378</td><td>0.007854</td><td>-1</td><td>112400000000.0</td><td>27056</td><td>6.33</td><td>305.45</td><td>173.42</td><td>75.81</td><td>14.611662847</td><td>6.72944</td><td>27056</td><td>112400000000.0</td></tr>\n",
       "<tr><td>-1</td><td>0.089</td><td>4.42768</td><td>0.0</td><td>0.6017</td><td>0.074706</td><td>0.0</td><td>18.62826</td><td>5.14585</td><td>5.51759</td><td>31019000000.0</td><td>2126000000.0</td><td>40040000.0</td><td>10380000000.0</td><td>0.0</td><td>0.0</td><td>1.59</td><td>0.0</td><td>0.0</td><td>0.93858</td><td>8.68419</td><td>0.0608</td><td>0.876</td><td>0.52387</td><td>31019000000.0</td><td>24556000000.0</td><td>0.43608</td><td>-1</td><td>47.73</td><td>10.24555</td><td>0.010246</td><td>-1</td><td>31020000000.0</td><td>38856</td><td>-12.35</td><td>347.25</td><td>192.31</td><td>43.71</td><td>7.29123560414</td><td>0.0</td><td>38856</td><td>31020000000.0</td></tr>\n",
       "<tr><td>-1</td><td>0.06106</td><td>4.92401</td><td>6.51292</td><td>0.6103</td><td>0.084717</td><td>0.45709</td><td>8.30853</td><td>10.51348</td><td>14.04503</td><td>45235000000.0</td><td>-7032000000.0</td><td>-8929000000.0</td><td>-3690000000.0</td><td>0.0</td><td>18094000000.0</td><td>1.31</td><td>6.77347</td><td>0.19995</td><td>0.48719</td><td>9.31647</td><td>0.03855</td><td>1.96289</td><td>2.20937</td><td>45235000000.0</td><td>37481000000.0</td><td>0.20252</td><td>-1</td><td>54.55</td><td>11.15462</td><td>0.011155</td><td>-1</td><td>45230000000.0</td><td>34516</td><td>40.41</td><td>336.27</td><td>205.78</td><td>51.11</td><td>7.59453160018</td><td>8.30313</td><td>34516</td><td>45230000000.0</td></tr>\n",
       "<tr><td>-1</td><td>0.03962</td><td>3.4516</td><td>5.89064</td><td>0.5199</td><td>0.118588</td><td>0.97268</td><td>-2.30996</td><td>8.11074</td><td>4.01511</td><td>124070000000.0</td><td>-11150000000.0</td><td>245300000.0</td><td>37620000000.0</td><td>64622000000.0</td><td>90471000000.0</td><td>4.48</td><td>5.00429</td><td>0.56017</td><td>0.88325</td><td>4.78589</td><td>0.03472</td><td>3.65173</td><td>2.51095</td><td>124070000000.0</td><td>96933000000.0</td><td>0.58004</td><td>-1</td><td>105.11</td><td>4.42243</td><td>0.004422</td><td>-1</td><td>124100000000.0</td><td>27884</td><td>73.56</td><td>313.25</td><td>220.48</td><td>86.9</td><td>26.8177295341</td><td>-0.19133</td><td>27884</td><td>124100000000.0</td></tr>\n",
       "<tr><td>...</td><td>...</td><td>...</td><td>...</td><td>...</td><td>...</td><td>...</td><td>...</td><td>...</td><td>...</td><td>...</td><td>...</td><td>...</td><td>...</td><td>...</td><td>...</td><td>...</td><td>...</td><td>...</td><td>...</td><td>...</td><td>...</td><td>...</td><td>...</td><td>...</td><td>...</td><td>...</td><td>...</td><td>...</td><td>...</td><td>...</td><td>...</td><td>...</td><td>...</td><td>...</td><td>...</td><td>...</td><td>...</td><td>...</td><td>...</td><td>...</td><td>...</td></tr>\n",
       "<tr><td>-1</td><td>0.19109</td><td>242.51823</td><td>11.6393</td><td>0.6716</td><td>0.351738</td><td>0.76523</td><td>-26.98883</td><td>14.09129</td><td>29.06052</td><td>3.2466e+12</td><td>2.477e+13</td><td>-1.752e+13</td><td>-3.606e+13</td><td>571260000000.0</td><td>1.18e+12</td><td>110.69</td><td>2.92325</td><td>0.55234</td><td>0.29777</td><td>61.17327</td><td>0.12145</td><td>247.53636</td><td>246.87338</td><td>3.2376e+12</td><td>2.2566e+12</td><td>0.27264</td><td>-1</td><td>214.06</td><td>64.3337</td><td>0.075484</td><td>-1</td><td>3.238e+12</td><td>2460874</td><td>-73.77</td><td>240.02</td><td>62.3</td><td>237.86</td><td>4.65976895766</td><td>-11.19137</td><td>2460874</td><td>3.238e+12</td></tr>\n",
       "<tr><td>-1</td><td>0.05256</td><td>249.05397</td><td>0.82774</td><td>0.728</td><td>0.095413</td><td>0.20695</td><td>23.90172</td><td>-2.06421</td><td>-1.30417</td><td>64622000000.0</td><td>6307000000.0</td><td>12080000000.0</td><td>15430000000.0</td><td>0.0</td><td>10340000000.0</td><td>2.92</td><td>9.97892</td><td>0.14827</td><td>0.64253</td><td>26.22852</td><td>0.03099</td><td>245.36923</td><td>249.92796</td><td>64622000000.0</td><td>55575000000.0</td><td>0.40375</td><td>-1</td><td>63.18</td><td>10.92457</td><td>0.010925</td><td>-1</td><td>64620000000.0</td><td>2482038</td><td>-74.6</td><td>288.98</td><td>106.96</td><td>63.01</td><td>8.73345537757</td><td>1.66638</td><td>2482038</td><td>64620000000.0</td></tr>\n",
       "<tr><td>-1</td><td>0.04031</td><td>249.94666</td><td>3.21458</td><td>0.4616</td><td>0.103596</td><td>0.7174</td><td>8.74818</td><td>-0.64458</td><td>3.05414</td><td>82716000000.0</td><td>7353000000.0</td><td>-20220000000.0</td><td>3304000000.0</td><td>29726000000.0</td><td>51698000000.0</td><td>2.68</td><td>-0.8893</td><td>0.60478</td><td>0.73833</td><td>2.18835</td><td>0.03657</td><td>245.22443</td><td>249.13115</td><td>82716000000.0</td><td>63330000000.0</td><td>0.67919</td><td>-1</td><td>79.9</td><td>6.27682</td><td>0.006277</td><td>-1</td><td>82720000000.0</td><td>2480439</td><td>-83.65</td><td>310.38</td><td>153.75</td><td>65.32</td><td>16.5040624502</td><td>6.80255</td><td>2480439</td><td>82720000000.0</td></tr>\n",
       "<tr><td>-1</td><td>0.04027</td><td>246.16544</td><td>7.26364</td><td>0.4905</td><td>0.163371</td><td>0.84916</td><td>3.00959</td><td>-6.59148</td><td>11.55547</td><td>324400000000.0</td><td>197700000000.0</td><td>70060000000.0</td><td>51900000000.0</td><td>81424000000.0</td><td>199040000000.0</td><td>3.34</td><td>-4.72704</td><td>0.66483</td><td>0.8454</td><td>10.92362</td><td>0.03541</td><td>245.96284</td><td>249.30855</td><td>324400000000.0</td><td>257200000000.0</td><td>0.70223</td><td>-1</td><td>114.81</td><td>14.30702</td><td>0.013429</td><td>-1</td><td>324400000000.0</td><td>2469947</td><td>-46.26</td><td>184.94</td><td>113.2</td><td>103.48</td><td>12.1655372701</td><td>6.14397</td><td>2469947</td><td>324400000000.0</td></tr>\n",
       "<tr><td>-1</td><td>0.1024</td><td>247.75876</td><td>0.0</td><td>0.8746</td><td>0.067875</td><td>0.0</td><td>11.22652</td><td>-8.18494</td><td>0.54484</td><td>23264000000.0</td><td>-2421000000.0</td><td>-3218000000.0</td><td>-7027000000.0</td><td>1292400000.0</td><td>2584900000.0</td><td>4.1</td><td>0.0</td><td>0.0</td><td>0.7339</td><td>22.30618</td><td>0.04118</td><td>248.11325</td><td>247.7088</td><td>23264000000.0</td><td>15509000000.0</td><td>0.2341</td><td>-1</td><td>43.65</td><td>8.99029</td><td>0.00899</td><td>-1</td><td>23260000000.0</td><td>2490038</td><td>-52.18</td><td>235.89</td><td>161.42</td><td>44.65</td><td>7.55005561735</td><td>0.0</td><td>2490038</td><td>23260000000.0</td></tr>\n",
       "<tr><td>-1</td><td>0.14807</td><td>249.46338</td><td>0.0</td><td>1.1146</td><td>0.071453</td><td>0.0</td><td>-3.24696</td><td>-30.971</td><td>37.30452</td><td>27141000000.0</td><td>-5093000000.0</td><td>-5387000000.0</td><td>-2094000000.0</td><td>0.0</td><td>0.0</td><td>4.84</td><td>0.0</td><td>0.0</td><td>0.33384</td><td>29.10962</td><td>0.02462</td><td>245.33867</td><td>249.89723</td><td>27141000000.0</td><td>0.0</td><td>0.0</td><td>-1</td><td>38.47</td><td>24.31608</td><td>0.024316</td><td>-1</td><td>27140000000.0</td><td>2487081</td><td>-88.76</td><td>289.49</td><td>133.71</td><td>45.61</td><td>2.93851784833</td><td>0.0</td><td>2487081</td><td>27140000000.0</td></tr>\n",
       "<tr><td>-1</td><td>0.09818</td><td>248.4624</td><td>0.0</td><td>0.7963</td><td>0.06242</td><td>0.0</td><td>9.462</td><td>15.93833</td><td>7.78485</td><td>18094000000.0</td><td>-674300000.0</td><td>3790000000.0</td><td>2359000000.0</td><td>0.0</td><td>1292400000.0</td><td>2.4</td><td>0.0</td><td>0.0</td><td>0.70355</td><td>20.00233</td><td>0.04417</td><td>248.43071</td><td>248.09421</td><td>18094000000.0</td><td>16802000000.0</td><td>0.0969</td><td>-1</td><td>42.53</td><td>6.25593</td><td>0.006256</td><td>-1</td><td>18090000000.0</td><td>2499127</td><td>-55.44</td><td>248.11</td><td>150.46</td><td>39.5</td><td>9.97762148338</td><td>0.0</td><td>2499127</td><td>18090000000.0</td></tr>\n",
       "<tr><td>-1</td><td>0.10455</td><td>249.40117</td><td>0.93353</td><td>0.5557</td><td>0.070301</td><td>0.51599</td><td>8.54277</td><td>9.48326</td><td>2.94983</td><td>25849000000.0</td><td>3770000000.0</td><td>2374000000.0</td><td>1805000000.0</td><td>2584900000.0</td><td>11632000000.0</td><td>6.35</td><td>7.02784</td><td>0.2134</td><td>0.55044</td><td>9.69085</td><td>0.03866</td><td>247.36758</td><td>247.55373</td><td>25849000000.0</td><td>14217000000.0</td><td>0.3131</td><td>-1</td><td>44.99</td><td>9.55544</td><td>0.009555</td><td>-1</td><td>25850000000.0</td><td>2499128</td><td>-56.58</td><td>280.44</td><td>144.42</td><td>37.7</td><td>7.35750915751</td><td>2.88902</td><td>2499128</td><td>25850000000.0</td></tr>\n",
       "<tr><td>-1</td><td>0.03934</td><td>248.09219</td><td>4.45783</td><td>0.5389</td><td>0.106226</td><td>0.48925</td><td>-5.82629</td><td>8.4262</td><td>4.30594</td><td>89179000000.0</td><td>-2084000000.0</td><td>-22960000000.0</td><td>9936000000.0</td><td>45235000000.0</td><td>55575000000.0</td><td>0.67</td><td>7.52436</td><td>0.38862</td><td>0.51253</td><td>4.15445</td><td>0.03542</td><td>245.40811</td><td>249.93475</td><td>89179000000.0</td><td>63330000000.0</td><td>0.50164</td><td>-1</td><td>89.78</td><td>4.64667</td><td>0.004647</td><td>-1</td><td>89180000000.0</td><td>2476203</td><td>-53.96</td><td>272.29</td><td>110.45</td><td>74.5</td><td>22.8590488487</td><td>-4.67574</td><td>2476203</td><td>89180000000.0</td></tr>\n",
       "<tr><td>-1</td><td>0.06242</td><td>247.60486</td><td>11.0774</td><td>0.5323</td><td>0.082224</td><td>0.68007</td><td>12.1103</td><td>-14.01185</td><td>5.59351</td><td>41358000000.0</td><td>964300000.0</td><td>8225000000.0</td><td>-7135000000.0</td><td>0.0</td><td>10340000000.0</td><td>2.1</td><td>-8.63451</td><td>0.36014</td><td>0.72262</td><td>10.51927</td><td>0.04441</td><td>244.61934</td><td>247.25648</td><td>41358000000.0</td><td>25849000000.0</td><td>0.18493</td><td>-1</td><td>53.83</td><td>9.953</td><td>0.009953</td><td>-1</td><td>41360000000.0</td><td>2492130</td><td>-76.22</td><td>246.43</td><td>139.08</td><td>45.89</td><td>8.26122777052</td><td>2.80474</td><td>2492130</td><td>41360000000.0</td></tr>\n",
       "</table>"
      ],
      "text/plain": [
       "<Table length=2501871>\n",
       "halo_upid halo_spin_bullock   halo_y  ... halo_hostid halo_mvir_host_halo\n",
       "  int64        float64       float64  ...    int64          float64      \n",
       "--------- ----------------- --------- ... ----------- -------------------\n",
       "       -1           0.02598   3.10772 ...       28687      104700000000.0\n",
       "       -1           0.02789   7.67272 ...       19933      687600000000.0\n",
       "       -1           0.04309    6.8652 ...       25582      200300000000.0\n",
       "       -1           0.06175   2.18452 ...       33959       45230000000.0\n",
       "       -1           0.27034   1.67234 ...       44661       16800000000.0\n",
       "       -1           0.18047   1.83307 ...       44662       19390000000.0\n",
       "       -1           0.02977   2.17014 ...       27056      112400000000.0\n",
       "       -1             0.089   4.42768 ...       38856       31020000000.0\n",
       "       -1           0.06106   4.92401 ...       34516       45230000000.0\n",
       "       -1           0.03962    3.4516 ...       27884      124100000000.0\n",
       "      ...               ...       ... ...         ...                 ...\n",
       "       -1           0.19109 242.51823 ...     2460874           3.238e+12\n",
       "       -1           0.05256 249.05397 ...     2482038       64620000000.0\n",
       "       -1           0.04031 249.94666 ...     2480439       82720000000.0\n",
       "       -1           0.04027 246.16544 ...     2469947      324400000000.0\n",
       "       -1            0.1024 247.75876 ...     2490038       23260000000.0\n",
       "       -1           0.14807 249.46338 ...     2487081       27140000000.0\n",
       "       -1           0.09818  248.4624 ...     2499127       18090000000.0\n",
       "       -1           0.10455 249.40117 ...     2499128       25850000000.0\n",
       "       -1           0.03934 248.09219 ...     2476203       89180000000.0\n",
       "       -1           0.06242 247.60486 ...     2492130       41360000000.0"
      ]
     },
     "execution_count": 2,
     "metadata": {},
     "output_type": "execute_result"
    }
   ],
   "source": [
    "halocat.halo_table"
   ]
  },
  {
   "cell_type": "code",
   "execution_count": 5,
   "metadata": {
    "collapsed": true
   },
   "outputs": [],
   "source": [
    "import numpy as np"
   ]
  },
  {
   "cell_type": "code",
   "execution_count": 10,
   "metadata": {
    "collapsed": false
   },
   "outputs": [
    {
     "data": {
      "text/plain": [
       "(array([    160,     552,     554, ..., 2501764, 2501783, 2501839]),)"
      ]
     },
     "execution_count": 10,
     "metadata": {},
     "output_type": "execute_result"
    }
   ],
   "source": [
    "np.where(halocat.halo_table['halo_upid']!=halocat.halo_table['halo_pid'])"
   ]
  },
  {
   "cell_type": "code",
   "execution_count": 7,
   "metadata": {
    "collapsed": false
   },
   "outputs": [
    {
     "data": {
      "text/plain": [
       "(array([     10,      82,     131, ..., 2501839, 2501854, 2501856]),)"
      ]
     },
     "execution_count": 7,
     "metadata": {},
     "output_type": "execute_result"
    }
   ],
   "source": [
    "np.where(halocat.halo_table['halo_pid']!=-1)"
   ]
  },
  {
   "cell_type": "code",
   "execution_count": 12,
   "metadata": {
    "collapsed": false
   },
   "outputs": [
    {
     "data": {
      "text/html": [
       "&lt;Column name=&apos;halo_pid&apos; dtype=&apos;int64&apos; length=381856&gt;\n",
       "<table>\n",
       "<tr><td>19933</td></tr>\n",
       "<tr><td>26810</td></tr>\n",
       "<tr><td>16154</td></tr>\n",
       "<tr><td>13887</td></tr>\n",
       "<tr><td>13885</td></tr>\n",
       "<tr><td>19161</td></tr>\n",
       "<tr><td>17723</td></tr>\n",
       "<tr><td>21876</td></tr>\n",
       "<tr><td>13962</td></tr>\n",
       "<tr><td>14969</td></tr>\n",
       "<tr><td>13962</td></tr>\n",
       "<tr><td>13962</td></tr>\n",
       "<tr><td>...</td></tr>\n",
       "<tr><td>2456410</td></tr>\n",
       "<tr><td>2457234</td></tr>\n",
       "<tr><td>2457234</td></tr>\n",
       "<tr><td>2457234</td></tr>\n",
       "<tr><td>2456410</td></tr>\n",
       "<tr><td>2456413</td></tr>\n",
       "<tr><td>2457234</td></tr>\n",
       "<tr><td>2457234</td></tr>\n",
       "<tr><td>2457234</td></tr>\n",
       "<tr><td>2460873</td></tr>\n",
       "<tr><td>2460874</td></tr>\n",
       "<tr><td>2467700</td></tr>\n",
       "</table>"
      ],
      "text/plain": [
       "<Column name='halo_pid' dtype='int64' length=381856>\n",
       "  19933\n",
       "  26810\n",
       "  16154\n",
       "  13887\n",
       "  13885\n",
       "  19161\n",
       "  17723\n",
       "  21876\n",
       "  13962\n",
       "  14969\n",
       "  13962\n",
       "  13962\n",
       "    ...\n",
       "2456410\n",
       "2457234\n",
       "2457234\n",
       "2457234\n",
       "2456410\n",
       "2456413\n",
       "2457234\n",
       "2457234\n",
       "2457234\n",
       "2460873\n",
       "2460874\n",
       "2467700"
      ]
     },
     "execution_count": 12,
     "metadata": {},
     "output_type": "execute_result"
    }
   ],
   "source": [
    "halocat.halo_table['halo_pid'][np.where(halocat.halo_table['halo_pid']!=-1)]"
   ]
  },
  {
   "cell_type": "code",
   "execution_count": 4,
   "metadata": {
    "collapsed": false
   },
   "outputs": [
    {
     "data": {
      "text/html": [
       "&lt;Column name=&apos;halo_mvir&apos; dtype=&apos;float64&apos; length=2501871&gt;\n",
       "<table>\n",
       "<tr><td>104700000000.0</td></tr>\n",
       "<tr><td>687600000000.0</td></tr>\n",
       "<tr><td>200300000000.0</td></tr>\n",
       "<tr><td>45230000000.0</td></tr>\n",
       "<tr><td>16800000000.0</td></tr>\n",
       "<tr><td>19390000000.0</td></tr>\n",
       "<tr><td>112400000000.0</td></tr>\n",
       "<tr><td>31020000000.0</td></tr>\n",
       "<tr><td>45230000000.0</td></tr>\n",
       "<tr><td>124100000000.0</td></tr>\n",
       "<tr><td>55570000000.0</td></tr>\n",
       "<tr><td>16800000000.0</td></tr>\n",
       "<tr><td>...</td></tr>\n",
       "<tr><td>42650000000.0</td></tr>\n",
       "<tr><td>18090000000.0</td></tr>\n",
       "<tr><td>3.238e+12</td></tr>\n",
       "<tr><td>64620000000.0</td></tr>\n",
       "<tr><td>82720000000.0</td></tr>\n",
       "<tr><td>324400000000.0</td></tr>\n",
       "<tr><td>23260000000.0</td></tr>\n",
       "<tr><td>27140000000.0</td></tr>\n",
       "<tr><td>18090000000.0</td></tr>\n",
       "<tr><td>25850000000.0</td></tr>\n",
       "<tr><td>89180000000.0</td></tr>\n",
       "<tr><td>41360000000.0</td></tr>\n",
       "</table>"
      ],
      "text/plain": [
       "<Column name='halo_mvir' dtype='float64' length=2501871>\n",
       "104700000000.0\n",
       "687600000000.0\n",
       "200300000000.0\n",
       " 45230000000.0\n",
       " 16800000000.0\n",
       " 19390000000.0\n",
       "112400000000.0\n",
       " 31020000000.0\n",
       " 45230000000.0\n",
       "124100000000.0\n",
       " 55570000000.0\n",
       " 16800000000.0\n",
       "           ...\n",
       " 42650000000.0\n",
       " 18090000000.0\n",
       "     3.238e+12\n",
       " 64620000000.0\n",
       " 82720000000.0\n",
       "324400000000.0\n",
       " 23260000000.0\n",
       " 27140000000.0\n",
       " 18090000000.0\n",
       " 25850000000.0\n",
       " 89180000000.0\n",
       " 41360000000.0"
      ]
     },
     "execution_count": 4,
     "metadata": {},
     "output_type": "execute_result"
    }
   ],
   "source": [
    "halocat.halo_table['halo_mvir']"
   ]
  },
  {
   "cell_type": "code",
   "execution_count": 5,
   "metadata": {
    "collapsed": false
   },
   "outputs": [
    {
     "data": {
      "text/html": [
       "&lt;Column name=&apos;halo_m200b&apos; dtype=&apos;float64&apos; length=2501871&gt;\n",
       "<table>\n",
       "<tr><td>104690000000.0</td></tr>\n",
       "<tr><td>687580000000.0</td></tr>\n",
       "<tr><td>200330000000.0</td></tr>\n",
       "<tr><td>45235000000.0</td></tr>\n",
       "<tr><td>16802000000.0</td></tr>\n",
       "<tr><td>19387000000.0</td></tr>\n",
       "<tr><td>112440000000.0</td></tr>\n",
       "<tr><td>31019000000.0</td></tr>\n",
       "<tr><td>45235000000.0</td></tr>\n",
       "<tr><td>124070000000.0</td></tr>\n",
       "<tr><td>55575000000.0</td></tr>\n",
       "<tr><td>16802000000.0</td></tr>\n",
       "<tr><td>...</td></tr>\n",
       "<tr><td>42651000000.0</td></tr>\n",
       "<tr><td>18094000000.0</td></tr>\n",
       "<tr><td>3.2376e+12</td></tr>\n",
       "<tr><td>64622000000.0</td></tr>\n",
       "<tr><td>82716000000.0</td></tr>\n",
       "<tr><td>324400000000.0</td></tr>\n",
       "<tr><td>23264000000.0</td></tr>\n",
       "<tr><td>27141000000.0</td></tr>\n",
       "<tr><td>18094000000.0</td></tr>\n",
       "<tr><td>25849000000.0</td></tr>\n",
       "<tr><td>89179000000.0</td></tr>\n",
       "<tr><td>41358000000.0</td></tr>\n",
       "</table>"
      ],
      "text/plain": [
       "<Column name='halo_m200b' dtype='float64' length=2501871>\n",
       "104690000000.0\n",
       "687580000000.0\n",
       "200330000000.0\n",
       " 45235000000.0\n",
       " 16802000000.0\n",
       " 19387000000.0\n",
       "112440000000.0\n",
       " 31019000000.0\n",
       " 45235000000.0\n",
       "124070000000.0\n",
       " 55575000000.0\n",
       " 16802000000.0\n",
       "           ...\n",
       " 42651000000.0\n",
       " 18094000000.0\n",
       "    3.2376e+12\n",
       " 64622000000.0\n",
       " 82716000000.0\n",
       "324400000000.0\n",
       " 23264000000.0\n",
       " 27141000000.0\n",
       " 18094000000.0\n",
       " 25849000000.0\n",
       " 89179000000.0\n",
       " 41358000000.0"
      ]
     },
     "execution_count": 5,
     "metadata": {},
     "output_type": "execute_result"
    }
   ],
   "source": [
    "halocat.halo_table['halo_m200b']"
   ]
  },
  {
   "cell_type": "code",
   "execution_count": 6,
   "metadata": {
    "collapsed": false
   },
   "outputs": [
    {
     "data": {
      "text/html": [
       "&lt;Column name=&apos;halo_m200c&apos; dtype=&apos;float64&apos; length=2501871&gt;\n",
       "<table>\n",
       "<tr><td>93056000000.0</td></tr>\n",
       "<tr><td>533780000000.0</td></tr>\n",
       "<tr><td>152510000000.0</td></tr>\n",
       "<tr><td>18094000000.0</td></tr>\n",
       "<tr><td>0.0</td></tr>\n",
       "<tr><td>5169800000.0</td></tr>\n",
       "<tr><td>95641000000.0</td></tr>\n",
       "<tr><td>24556000000.0</td></tr>\n",
       "<tr><td>37481000000.0</td></tr>\n",
       "<tr><td>96933000000.0</td></tr>\n",
       "<tr><td>54283000000.0</td></tr>\n",
       "<tr><td>12924000000.0</td></tr>\n",
       "<tr><td>...</td></tr>\n",
       "<tr><td>28434000000.0</td></tr>\n",
       "<tr><td>0.0</td></tr>\n",
       "<tr><td>2.2566e+12</td></tr>\n",
       "<tr><td>55575000000.0</td></tr>\n",
       "<tr><td>63330000000.0</td></tr>\n",
       "<tr><td>257200000000.0</td></tr>\n",
       "<tr><td>15509000000.0</td></tr>\n",
       "<tr><td>0.0</td></tr>\n",
       "<tr><td>16802000000.0</td></tr>\n",
       "<tr><td>14217000000.0</td></tr>\n",
       "<tr><td>63330000000.0</td></tr>\n",
       "<tr><td>25849000000.0</td></tr>\n",
       "</table>"
      ],
      "text/plain": [
       "<Column name='halo_m200c' dtype='float64' length=2501871>\n",
       " 93056000000.0\n",
       "533780000000.0\n",
       "152510000000.0\n",
       " 18094000000.0\n",
       "           0.0\n",
       "  5169800000.0\n",
       " 95641000000.0\n",
       " 24556000000.0\n",
       " 37481000000.0\n",
       " 96933000000.0\n",
       " 54283000000.0\n",
       " 12924000000.0\n",
       "           ...\n",
       " 28434000000.0\n",
       "           0.0\n",
       "    2.2566e+12\n",
       " 55575000000.0\n",
       " 63330000000.0\n",
       "257200000000.0\n",
       " 15509000000.0\n",
       "           0.0\n",
       " 16802000000.0\n",
       " 14217000000.0\n",
       " 63330000000.0\n",
       " 25849000000.0"
      ]
     },
     "execution_count": 6,
     "metadata": {},
     "output_type": "execute_result"
    }
   ],
   "source": [
    "halocat.halo_table['halo_m200c']"
   ]
  },
  {
   "cell_type": "code",
   "execution_count": 7,
   "metadata": {
    "collapsed": false
   },
   "outputs": [
    {
     "data": {
      "text/html": [
       "&lt;Column name=&apos;halo_rs&apos; dtype=&apos;float64&apos; length=2501871&gt;\n",
       "<table>\n",
       "<tr><td>0.00883</td></tr>\n",
       "<tr><td>0.025907</td></tr>\n",
       "<tr><td>0.013428</td></tr>\n",
       "<tr><td>0.020865</td></tr>\n",
       "<tr><td>0.018294</td></tr>\n",
       "<tr><td>0.021121</td></tr>\n",
       "<tr><td>0.007854</td></tr>\n",
       "<tr><td>0.010246</td></tr>\n",
       "<tr><td>0.011155</td></tr>\n",
       "<tr><td>0.004422</td></tr>\n",
       "<tr><td>0.004671</td></tr>\n",
       "<tr><td>0.006788</td></tr>\n",
       "<tr><td>...</td></tr>\n",
       "<tr><td>0.006397</td></tr>\n",
       "<tr><td>0.0</td></tr>\n",
       "<tr><td>0.075484</td></tr>\n",
       "<tr><td>0.010925</td></tr>\n",
       "<tr><td>0.006277</td></tr>\n",
       "<tr><td>0.013429</td></tr>\n",
       "<tr><td>0.00899</td></tr>\n",
       "<tr><td>0.024316</td></tr>\n",
       "<tr><td>0.006256</td></tr>\n",
       "<tr><td>0.009555</td></tr>\n",
       "<tr><td>0.004647</td></tr>\n",
       "<tr><td>0.009953</td></tr>\n",
       "</table>"
      ],
      "text/plain": [
       "<Column name='halo_rs' dtype='float64' length=2501871>\n",
       " 0.00883\n",
       "0.025907\n",
       "0.013428\n",
       "0.020865\n",
       "0.018294\n",
       "0.021121\n",
       "0.007854\n",
       "0.010246\n",
       "0.011155\n",
       "0.004422\n",
       "0.004671\n",
       "0.006788\n",
       "     ...\n",
       "0.006397\n",
       "     0.0\n",
       "0.075484\n",
       "0.010925\n",
       "0.006277\n",
       "0.013429\n",
       " 0.00899\n",
       "0.024316\n",
       "0.006256\n",
       "0.009555\n",
       "0.004647\n",
       "0.009953"
      ]
     },
     "execution_count": 7,
     "metadata": {},
     "output_type": "execute_result"
    }
   ],
   "source": [
    "halocat.halo_table['halo_rs']"
   ]
  },
  {
   "cell_type": "code",
   "execution_count": 9,
   "metadata": {
    "collapsed": false
   },
   "outputs": [
    {
     "data": {
      "text/html": [
       "&lt;Column name=&apos;halo_nfw_conc&apos; dtype=&apos;float64&apos; length=2501871&gt;\n",
       "<table>\n",
       "<tr><td>12.6906002265</td></tr>\n",
       "<tr><td>8.10032037673</td></tr>\n",
       "<tr><td>10.3605153411</td></tr>\n",
       "<tr><td>4.06024442847</td></tr>\n",
       "<tr><td>3.32879632666</td></tr>\n",
       "<tr><td>3.02409923773</td></tr>\n",
       "<tr><td>14.611662847</td></tr>\n",
       "<tr><td>7.29123560414</td></tr>\n",
       "<tr><td>7.59453160018</td></tr>\n",
       "<tr><td>26.8177295341</td></tr>\n",
       "<tr><td>19.4249625348</td></tr>\n",
       "<tr><td>8.97127283441</td></tr>\n",
       "<tr><td>...</td></tr>\n",
       "<tr><td>12.9860872284</td></tr>\n",
       "<tr><td>inf</td></tr>\n",
       "<tr><td>4.65976895766</td></tr>\n",
       "<tr><td>8.73345537757</td></tr>\n",
       "<tr><td>16.5040624502</td></tr>\n",
       "<tr><td>12.1655372701</td></tr>\n",
       "<tr><td>7.55005561735</td></tr>\n",
       "<tr><td>2.93851784833</td></tr>\n",
       "<tr><td>9.97762148338</td></tr>\n",
       "<tr><td>7.35750915751</td></tr>\n",
       "<tr><td>22.8590488487</td></tr>\n",
       "<tr><td>8.26122777052</td></tr>\n",
       "</table>"
      ],
      "text/plain": [
       "<Column name='halo_nfw_conc' dtype='float64' length=2501871>\n",
       "12.6906002265\n",
       "8.10032037673\n",
       "10.3605153411\n",
       "4.06024442847\n",
       "3.32879632666\n",
       "3.02409923773\n",
       " 14.611662847\n",
       "7.29123560414\n",
       "7.59453160018\n",
       "26.8177295341\n",
       "19.4249625348\n",
       "8.97127283441\n",
       "          ...\n",
       "12.9860872284\n",
       "          inf\n",
       "4.65976895766\n",
       "8.73345537757\n",
       "16.5040624502\n",
       "12.1655372701\n",
       "7.55005561735\n",
       "2.93851784833\n",
       "9.97762148338\n",
       "7.35750915751\n",
       "22.8590488487\n",
       "8.26122777052"
      ]
     },
     "execution_count": 9,
     "metadata": {},
     "output_type": "execute_result"
    }
   ],
   "source": [
    "halocat.halo_table['halo_nfw_conc']"
   ]
  },
  {
   "cell_type": "code",
   "execution_count": null,
   "metadata": {
    "collapsed": true
   },
   "outputs": [],
   "source": []
  }
 ],
 "metadata": {
  "kernelspec": {
   "display_name": "Python 2",
   "language": "python",
   "name": "python2"
  },
  "language_info": {
   "codemirror_mode": {
    "name": "ipython",
    "version": 2
   },
   "file_extension": ".py",
   "mimetype": "text/x-python",
   "name": "python",
   "nbconvert_exporter": "python",
   "pygments_lexer": "ipython2",
   "version": "2.7.12"
  }
 },
 "nbformat": 4,
 "nbformat_minor": 1
}
