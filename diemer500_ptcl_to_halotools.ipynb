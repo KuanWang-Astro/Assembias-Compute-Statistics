{
 "cells": [
  {
   "cell_type": "code",
   "execution_count": 1,
   "metadata": {
    "collapsed": true
   },
   "outputs": [],
   "source": [
    "import numpy as np"
   ]
  },
  {
   "cell_type": "code",
   "execution_count": 3,
   "metadata": {
    "collapsed": false
   },
   "outputs": [],
   "source": [
    "ptcl_pos = np.loadtxt('../diemer_antonio/diemer500_10p_z0.0.ascii')"
   ]
  },
  {
   "cell_type": "code",
   "execution_count": 4,
   "metadata": {
    "collapsed": false
   },
   "outputs": [
    {
     "data": {
      "text/plain": [
       "array([[ 351.87197876,   25.64134216,  361.12786865],\n",
       "       [ 114.49738312,  336.54577637,  196.22483826],\n",
       "       [ 279.05447388,   93.39704895,  136.9903717 ],\n",
       "       [ 387.42623901,  205.98136902,  210.86062622],\n",
       "       [  18.10648346,  470.44265747,  190.25502014]])"
      ]
     },
     "execution_count": 4,
     "metadata": {},
     "output_type": "execute_result"
    }
   ],
   "source": [
    "ptcl_pos[:5]"
   ]
  },
  {
   "cell_type": "code",
   "execution_count": 5,
   "metadata": {
    "collapsed": true
   },
   "outputs": [],
   "source": [
    "x = ptcl_pos[:,0]\n",
    "y = ptcl_pos[:,1]\n",
    "z = ptcl_pos[:,2]"
   ]
  },
  {
   "cell_type": "code",
   "execution_count": 12,
   "metadata": {
    "collapsed": false
   },
   "outputs": [
    {
     "data": {
      "text/plain": [
       "array([ 351.87197876,  114.49738312,  279.05447388, ...,  367.89645386,\n",
       "        369.0609436 ,   94.85120392])"
      ]
     },
     "execution_count": 12,
     "metadata": {},
     "output_type": "execute_result"
    }
   ],
   "source": [
    "x"
   ]
  },
  {
   "cell_type": "code",
   "execution_count": 13,
   "metadata": {
    "collapsed": false
   },
   "outputs": [
    {
     "data": {
      "text/plain": [
       "107374182"
      ]
     },
     "execution_count": 13,
     "metadata": {},
     "output_type": "execute_result"
    }
   ],
   "source": [
    "x.size"
   ]
  },
  {
   "cell_type": "code",
   "execution_count": 6,
   "metadata": {
    "collapsed": true
   },
   "outputs": [],
   "source": [
    "from halotools.sim_manager import UserSuppliedPtclCatalog"
   ]
  },
  {
   "cell_type": "code",
   "execution_count": 7,
   "metadata": {
    "collapsed": true
   },
   "outputs": [],
   "source": [
    "ptcl_catalog = UserSuppliedPtclCatalog(Lbox = 500,particle_mass = 1.03395e10,redshift = 0, x=x, y=y, z=z)"
   ]
  },
  {
   "cell_type": "code",
   "execution_count": 14,
   "metadata": {
    "collapsed": false
   },
   "outputs": [],
   "source": [
    "ptcl_catalog.add_ptclcat_to_cache(\\\n",
    "    '/home/kuw8/.astropy/cache/halotools/particle_catalogs/diemerL0500/hlist_1.00000.particles.antonio.hdf5',\\\n",
    "    'diemerL0500', 'antonio', '#')"
   ]
  },
  {
   "cell_type": "code",
   "execution_count": 17,
   "metadata": {
    "collapsed": false
   },
   "outputs": [],
   "source": [
    "from halotools.sim_manager import CachedHaloCatalog\n",
    "halocat = CachedHaloCatalog(simname='diemerL0500', halo_finder='rockstar',\\\n",
    "                            version_name='antonio', redshift=0, ptcl_version_name='antonio') "
   ]
  },
  {
   "cell_type": "code",
   "execution_count": 18,
   "metadata": {
    "collapsed": false
   },
   "outputs": [
    {
     "data": {
      "text/html": [
       "&lt;Table length=107374182&gt;\n",
       "<table id=\"table139684685052944\" class=\"table-striped table-bordered table-condensed\">\n",
       "<thead><tr><th>y</th><th>x</th><th>z</th></tr></thead>\n",
       "<thead><tr><th>float64</th><th>float64</th><th>float64</th></tr></thead>\n",
       "<tr><td>25.6413421631</td><td>351.87197876</td><td>361.127868652</td></tr>\n",
       "<tr><td>336.545776367</td><td>114.497383118</td><td>196.224838257</td></tr>\n",
       "<tr><td>93.3970489502</td><td>279.054473877</td><td>136.990371704</td></tr>\n",
       "<tr><td>205.981369019</td><td>387.426239014</td><td>210.860626221</td></tr>\n",
       "<tr><td>470.442657471</td><td>18.1064834595</td><td>190.255020142</td></tr>\n",
       "<tr><td>60.6177482605</td><td>217.984512329</td><td>170.185668945</td></tr>\n",
       "<tr><td>349.372802734</td><td>252.169662476</td><td>459.093658447</td></tr>\n",
       "<tr><td>375.778594971</td><td>95.9965438843</td><td>198.319229126</td></tr>\n",
       "<tr><td>277.174713135</td><td>30.721572876</td><td>208.854629517</td></tr>\n",
       "<tr><td>391.860870361</td><td>115.290229797</td><td>454.82333374</td></tr>\n",
       "<tr><td>...</td><td>...</td><td>...</td></tr>\n",
       "<tr><td>181.930343628</td><td>171.816635132</td><td>23.0511512756</td></tr>\n",
       "<tr><td>167.73236084</td><td>497.568969727</td><td>198.307022095</td></tr>\n",
       "<tr><td>123.200996399</td><td>14.4241304398</td><td>113.487503052</td></tr>\n",
       "<tr><td>272.761749268</td><td>192.095214844</td><td>447.092529297</td></tr>\n",
       "<tr><td>167.102218628</td><td>398.902435303</td><td>371.172149658</td></tr>\n",
       "<tr><td>266.104309082</td><td>26.4114570618</td><td>360.330230713</td></tr>\n",
       "<tr><td>383.662475586</td><td>429.781494141</td><td>350.729370117</td></tr>\n",
       "<tr><td>62.6174316406</td><td>367.896453857</td><td>446.183380127</td></tr>\n",
       "<tr><td>163.373703003</td><td>369.060943604</td><td>65.9481887817</td></tr>\n",
       "<tr><td>48.7244338989</td><td>94.8512039185</td><td>16.047460556</td></tr>\n",
       "</table>"
      ],
      "text/plain": [
       "<Table length=107374182>\n",
       "      y             x             z      \n",
       "   float64       float64       float64   \n",
       "------------- ------------- -------------\n",
       "25.6413421631  351.87197876 361.127868652\n",
       "336.545776367 114.497383118 196.224838257\n",
       "93.3970489502 279.054473877 136.990371704\n",
       "205.981369019 387.426239014 210.860626221\n",
       "470.442657471 18.1064834595 190.255020142\n",
       "60.6177482605 217.984512329 170.185668945\n",
       "349.372802734 252.169662476 459.093658447\n",
       "375.778594971 95.9965438843 198.319229126\n",
       "277.174713135  30.721572876 208.854629517\n",
       "391.860870361 115.290229797  454.82333374\n",
       "          ...           ...           ...\n",
       "181.930343628 171.816635132 23.0511512756\n",
       " 167.73236084 497.568969727 198.307022095\n",
       "123.200996399 14.4241304398 113.487503052\n",
       "272.761749268 192.095214844 447.092529297\n",
       "167.102218628 398.902435303 371.172149658\n",
       "266.104309082 26.4114570618 360.330230713\n",
       "383.662475586 429.781494141 350.729370117\n",
       "62.6174316406 367.896453857 446.183380127\n",
       "163.373703003 369.060943604 65.9481887817\n",
       "48.7244338989 94.8512039185  16.047460556"
      ]
     },
     "execution_count": 18,
     "metadata": {},
     "output_type": "execute_result"
    }
   ],
   "source": [
    "halocat.ptcl_table"
   ]
  },
  {
   "cell_type": "code",
   "execution_count": null,
   "metadata": {
    "collapsed": true
   },
   "outputs": [],
   "source": []
  }
 ],
 "metadata": {
  "kernelspec": {
   "display_name": "Python 2",
   "language": "python",
   "name": "python2"
  },
  "language_info": {
   "codemirror_mode": {
    "name": "ipython",
    "version": 2
   },
   "file_extension": ".py",
   "mimetype": "text/x-python",
   "name": "python",
   "nbconvert_exporter": "python",
   "pygments_lexer": "ipython2",
   "version": "2.7.12"
  }
 },
 "nbformat": 4,
 "nbformat_minor": 0
}
