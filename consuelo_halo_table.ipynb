{
 "cells": [
  {
   "cell_type": "code",
   "execution_count": 1,
   "metadata": {
    "collapsed": true
   },
   "outputs": [],
   "source": [
    "from halotools.sim_manager import CachedHaloCatalog\n",
    "\n",
    "halocat = CachedHaloCatalog(simname = 'consuelo20', version_name = '0_4001',redshift = 0, \\\n",
    "                            halo_finder = 'rockstar')"
   ]
  },
  {
   "cell_type": "code",
   "execution_count": 2,
   "metadata": {
    "collapsed": true
   },
   "outputs": [],
   "source": [
    "halocat_bolplanck = CachedHaloCatalog(simname = 'bolplanck', version_name = 'halotools_v0p4',redshift = 0, \\\n",
    "                            halo_finder = 'rockstar')"
   ]
  },
  {
   "cell_type": "code",
   "execution_count": 3,
   "metadata": {
    "collapsed": true
   },
   "outputs": [],
   "source": [
    "keys_consuelo = halocat.halo_table.keys()"
   ]
  },
  {
   "cell_type": "code",
   "execution_count": 4,
   "metadata": {
    "collapsed": true
   },
   "outputs": [],
   "source": [
    "keys_bolplanck = halocat_bolplanck.halo_table.keys()"
   ]
  },
  {
   "cell_type": "code",
   "execution_count": 5,
   "metadata": {
    "collapsed": false
   },
   "outputs": [
    {
     "name": "stdout",
     "output_type": "stream",
     "text": [
      "common keys:\n",
      "halo_dmvir_dt_tdyn\n",
      "halo_macc\n",
      "halo_scale_factor\n",
      "halo_spin\n",
      "halo_scale_factor_last_mm\n",
      "halo_pid\n",
      "halo_id\n",
      "halo_halfmass_scale_factor\n",
      "halo_upid\n",
      "halo_rvir\n",
      "halo_vpeak\n",
      "halo_dmvir_dt_100myr\n",
      "halo_mpeak\n",
      "halo_jx\n",
      "halo_jy\n",
      "halo_jz\n",
      "halo_mvir\n",
      "halo_y\n",
      "halo_x\n",
      "halo_z\n",
      "halo_vacc\n",
      "halo_vmax\n",
      "halo_vx\n",
      "halo_vy\n",
      "halo_vz\n",
      "halo_dmvir_dt_inst\n",
      "halo_rs\n",
      "halo_nfw_conc\n",
      "halo_hostid\n",
      "halo_mvir_host_halo\n",
      "\n",
      "halotools keys:\n",
      "halo_vmax_firstacc\n",
      "halo_vmax_mpeak\n",
      "halo_m_pe_behroozi\n",
      "halo_delta_vmax_behroozi17\n",
      "halo_xoff\n",
      "halo_tidal_force\n",
      "halo_scale_factor_firstacc\n",
      "halo_c_to_a\n",
      "halo_mvir_firstacc\n",
      "halo_tidal_id\n",
      "halo_scale_factor_mpeak\n",
      "halo_m500c\n",
      "halo_t_by_u\n",
      "halo_m_pe_diemer\n",
      "halo_m2500c\n",
      "halo_voff\n",
      "halo_axisA_z\n",
      "halo_axisA_x\n",
      "halo_axisA_y\n",
      "halo_b_to_a\n",
      "halo_m200b\n",
      "halo_scale_factor_lastacc\n",
      "halo_m200c\n",
      "halo_tidal_force_tdyn\n",
      "\n",
      "consuelo keys:\n",
      "halo_vrms\n"
     ]
    }
   ],
   "source": [
    "print 'common keys:'\n",
    "for name in keys_bolplanck:\n",
    "    if name in keys_consuelo:\n",
    "        print name\n",
    "        \n",
    "print '\\nhalotools keys:'\n",
    "for name in keys_bolplanck:\n",
    "    if name not in keys_consuelo:\n",
    "        print name\n",
    "        \n",
    "print '\\nconsuelo keys:'\n",
    "for name in keys_consuelo:\n",
    "    if name not in keys_bolplanck:\n",
    "        print name"
   ]
  },
  {
   "cell_type": "code",
   "execution_count": 6,
   "metadata": {
    "collapsed": false
   },
   "outputs": [
    {
     "data": {
      "text/html": [
       "&lt;Table length=5&gt;\n",
       "<table id=\"table140247816243088\" class=\"table-striped table-bordered table-condensed\">\n",
       "<thead><tr><th>halo_upid</th><th>halo_scale_factor</th><th>halo_y</th><th>halo_dmvir_dt_tdyn</th><th>halo_rvir</th><th>halo_vpeak</th><th>halo_macc</th><th>halo_dmvir_dt_100myr</th><th>halo_mpeak</th><th>halo_jx</th><th>halo_jy</th><th>halo_jz</th><th>halo_mvir</th><th>halo_pid</th><th>halo_halfmass_scale_factor</th><th>halo_spin</th><th>halo_x</th><th>halo_z</th><th>halo_vacc</th><th>halo_scale_factor_last_mm</th><th>halo_vmax</th><th>halo_nfw_conc</th><th>halo_id</th><th>halo_vx</th><th>halo_vy</th><th>halo_vz</th><th>halo_dmvir_dt_inst</th><th>halo_vrms</th><th>halo_rs</th><th>halo_hostid</th><th>halo_mvir_host_halo</th></tr></thead>\n",
       "<thead><tr><th>float64</th><th>float64</th><th>float64</th><th>float64</th><th>float64</th><th>float64</th><th>float64</th><th>float64</th><th>float64</th><th>float64</th><th>float64</th><th>float64</th><th>float64</th><th>float64</th><th>float64</th><th>float64</th><th>float64</th><th>float64</th><th>float64</th><th>float64</th><th>float64</th><th>float64</th><th>int64</th><th>float64</th><th>float64</th><th>float64</th><th>float64</th><th>float64</th><th>float64</th><th>int64</th><th>float64</th></tr></thead>\n",
       "<tr><td>-1.0</td><td>1.0</td><td>67.77184</td><td>58610.0</td><td>1.679949</td><td>1373.4</td><td>5.193e+14</td><td>60920.0</td><td>5.193e+14</td><td>-1.262e+16</td><td>6.145e+15</td><td>1.634e+16</td><td>5.193e+14</td><td>-1.0</td><td>0.5773</td><td>0.028</td><td>215.5239</td><td>395.20154</td><td>1230.37</td><td>0.5478</td><td>1230.37</td><td>5.16605369169</td><td>606949868</td><td>139.05</td><td>214.51</td><td>267.84</td><td>60450.0</td><td>1340.86</td><td>0.32519</td><td>606949868</td><td>5.193e+14</td></tr>\n",
       "<tr><td>-1.0</td><td>1.0</td><td>56.29265</td><td>2248.0</td><td>1.429999</td><td>1292.02</td><td>3.203e+14</td><td>3197.0</td><td>3.209e+14</td><td>-1.283e+15</td><td>1.125e+16</td><td>-1.415e+16</td><td>3.203e+14</td><td>-1.0</td><td>0.4807</td><td>0.06335</td><td>154.27783</td><td>313.29968</td><td>1180.23</td><td>0.4682</td><td>1180.23</td><td>9.9030401662</td><td>605242061</td><td>49.92</td><td>34.37</td><td>-41.52</td><td>3297.0</td><td>1166.79</td><td>0.1444</td><td>605242061</td><td>3.203e+14</td></tr>\n",
       "<tr><td>-1.0</td><td>1.0</td><td>135.0022</td><td>56630.0</td><td>1.374634</td><td>1068.14</td><td>2.845e+14</td><td>30280.0</td><td>2.845e+14</td><td>-6.778e+15</td><td>-3.053e+16</td><td>2.133e+16</td><td>2.845e+14</td><td>-1.0</td><td>0.7902</td><td>0.14463</td><td>141.73158</td><td>296.90988</td><td>1068.14</td><td>0.9428</td><td>1068.14</td><td>7.38296363929</td><td>605606359</td><td>-630.67</td><td>-199.85</td><td>-302.02</td><td>31870.0</td><td>1191.06</td><td>0.18619</td><td>605606359</td><td>2.845e+14</td></tr>\n",
       "<tr><td>-1.0</td><td>1.0</td><td>0.66856</td><td>10930.0</td><td>1.367247</td><td>1092.96</td><td>2.799e+14</td><td>4296.0</td><td>2.799e+14</td><td>-7.795e+15</td><td>2.964e+14</td><td>-6.427e+14</td><td>2.799e+14</td><td>-1.0</td><td>0.5624</td><td>0.03007</td><td>141.34628</td><td>386.51648</td><td>1048.46</td><td>0.3604</td><td>1048.46</td><td>6.87283283485</td><td>605293650</td><td>-80.56</td><td>-435.07</td><td>-129.4</td><td>4396.0</td><td>1096.43</td><td>0.198935</td><td>605293650</td><td>2.799e+14</td></tr>\n",
       "<tr><td>-1.0</td><td>1.0</td><td>126.58434</td><td>5066.0</td><td>1.165508</td><td>904.66</td><td>1.734e+14</td><td>7790.0</td><td>1.734e+14</td><td>2.319e+15</td><td>1.665e+15</td><td>5.636e+15</td><td>1.734e+14</td><td>-1.0</td><td>0.5773</td><td>0.05681</td><td>234.23222</td><td>417.52896</td><td>878.86</td><td>0.4562</td><td>878.86</td><td>6.2395700053</td><td>607358466</td><td>155.6</td><td>369.74</td><td>552.0</td><td>7694.0</td><td>947.16</td><td>0.186793</td><td>607358466</td><td>1.734e+14</td></tr>\n",
       "</table>"
      ],
      "text/plain": [
       "<Table length=5>\n",
       "halo_upid halo_scale_factor   halo_y  ... halo_hostid halo_mvir_host_halo\n",
       " float64       float64       float64  ...    int64          float64      \n",
       "--------- ----------------- --------- ... ----------- -------------------\n",
       "     -1.0               1.0  67.77184 ...   606949868           5.193e+14\n",
       "     -1.0               1.0  56.29265 ...   605242061           3.203e+14\n",
       "     -1.0               1.0  135.0022 ...   605606359           2.845e+14\n",
       "     -1.0               1.0   0.66856 ...   605293650           2.799e+14\n",
       "     -1.0               1.0 126.58434 ...   607358466           1.734e+14"
      ]
     },
     "execution_count": 6,
     "metadata": {},
     "output_type": "execute_result"
    }
   ],
   "source": [
    "halocat.halo_table[:5]"
   ]
  },
  {
   "cell_type": "code",
   "execution_count": 7,
   "metadata": {
    "collapsed": false
   },
   "outputs": [
    {
     "data": {
      "text/html": [
       "&lt;Table length=5&gt;\n",
       "<table id=\"table140244899237392\" class=\"table-striped table-bordered table-condensed\">\n",
       "<thead><tr><th>halo_vmax_firstacc</th><th>halo_dmvir_dt_tdyn</th><th>halo_macc</th><th>halo_scale_factor</th><th>halo_vmax_mpeak</th><th>halo_m_pe_behroozi</th><th>halo_delta_vmax_behroozi17</th><th>halo_xoff</th><th>halo_spin</th><th>halo_tidal_force</th><th>halo_scale_factor_firstacc</th><th>halo_c_to_a</th><th>halo_mvir_firstacc</th><th>halo_scale_factor_last_mm</th><th>halo_tidal_id</th><th>halo_scale_factor_mpeak</th><th>halo_pid</th><th>halo_m500c</th><th>halo_id</th><th>halo_halfmass_scale_factor</th><th>halo_upid</th><th>halo_t_by_u</th><th>halo_rvir</th><th>halo_vpeak</th><th>halo_dmvir_dt_100myr</th><th>halo_mpeak</th><th>halo_m_pe_diemer</th><th>halo_jx</th><th>halo_jy</th><th>halo_jz</th><th>halo_m2500c</th><th>halo_mvir</th><th>halo_voff</th><th>halo_axisA_z</th><th>halo_axisA_x</th><th>halo_axisA_y</th><th>halo_y</th><th>halo_b_to_a</th><th>halo_x</th><th>halo_z</th><th>halo_m200b</th><th>halo_vacc</th><th>halo_scale_factor_lastacc</th><th>halo_vmax</th><th>halo_m200c</th><th>halo_vx</th><th>halo_vy</th><th>halo_vz</th><th>halo_dmvir_dt_inst</th><th>halo_tidal_force_tdyn</th><th>halo_rs</th><th>halo_nfw_conc</th><th>halo_hostid</th><th>halo_mvir_host_halo</th></tr></thead>\n",
       "<thead><tr><th>float32</th><th>float32</th><th>float32</th><th>float32</th><th>float32</th><th>float32</th><th>float32</th><th>float32</th><th>float32</th><th>float32</th><th>float32</th><th>float32</th><th>float32</th><th>float32</th><th>int64</th><th>float32</th><th>int64</th><th>float32</th><th>int64</th><th>float32</th><th>int64</th><th>float32</th><th>float32</th><th>float32</th><th>float32</th><th>float32</th><th>float32</th><th>float32</th><th>float32</th><th>float32</th><th>float32</th><th>float32</th><th>float32</th><th>float32</th><th>float32</th><th>float32</th><th>float32</th><th>float32</th><th>float32</th><th>float32</th><th>float32</th><th>float32</th><th>float32</th><th>float32</th><th>float32</th><th>float32</th><th>float32</th><th>float32</th><th>float32</th><th>float32</th><th>float32</th><th>float32</th><th>int64</th><th>float32</th></tr></thead>\n",
       "<tr><td>1001.57</td><td>12810.0</td><td>2.008e+14</td><td>1.00231</td><td>1001.57</td><td>2.027e+14</td><td>-0.0026</td><td>0.0257357</td><td>0.02391</td><td>0.11954</td><td>1.00231</td><td>0.47559</td><td>2.008e+14</td><td>0.28343</td><td>2812606193</td><td>1.002</td><td>-1</td><td>1.1658e+14</td><td>2811042639</td><td>0.41506</td><td>-1</td><td>0.593</td><td>1.19045</td><td>1091.38</td><td>17390.0</td><td>2.008e+14</td><td>1.118e+14</td><td>2.536e+15</td><td>-4.744e+14</td><td>-6.566e+15</td><td>6.5777e+13</td><td>2.008e+14</td><td>21.34</td><td>19.2231</td><td>59.7891</td><td>-18.8001</td><td>43.1408</td><td>0.63663</td><td>36.1798</td><td>17.9634</td><td>2.2378e+14</td><td>1001.57</td><td>1.00231</td><td>1001.57</td><td>1.5824e+14</td><td>16.1</td><td>8.51</td><td>-78.88</td><td>17390.0</td><td>0.12244</td><td>0.137953</td><td>8.62937</td><td>2811042639</td><td>2.008e+14</td></tr>\n",
       "<tr><td>895.2</td><td>13760.0</td><td>1.796e+14</td><td>1.00231</td><td>895.2</td><td>1.81e+14</td><td>-0.01065</td><td>0.041987</td><td>0.06297</td><td>0.50587</td><td>1.00231</td><td>0.56181</td><td>1.796e+14</td><td>0.29862</td><td>2811077105</td><td>1.002</td><td>-1</td><td>1.0036e+14</td><td>2811055606</td><td>0.50618</td><td>-1</td><td>0.627</td><td>1.14685</td><td>969.05</td><td>7324.0</td><td>1.796e+14</td><td>1.287e+14</td><td>1.074e+16</td><td>4.931e+15</td><td>-1.185e+16</td><td>4.7026e+13</td><td>1.796e+14</td><td>41.91</td><td>41.2062</td><td>34.6803</td><td>17.8882</td><td>49.5442</td><td>0.8397</td><td>45.3664</td><td>40.0159</td><td>2.0446e+14</td><td>895.2</td><td>1.00231</td><td>895.2</td><td>1.4229e+14</td><td>2.46</td><td>264.77</td><td>-128.08</td><td>7324.0</td><td>0.491</td><td>0.185805</td><td>6.17233</td><td>2811055606</td><td>1.796e+14</td></tr>\n",
       "<tr><td>853.83</td><td>4666.0</td><td>1.298e+14</td><td>1.00231</td><td>853.83</td><td>1.495e+14</td><td>0.00531</td><td>0.0264619</td><td>0.03607</td><td>0.07568</td><td>1.00231</td><td>0.66381</td><td>1.298e+14</td><td>0.49606</td><td>2810630242</td><td>1.002</td><td>-1</td><td>8.7766e+13</td><td>2809250167</td><td>0.491</td><td>-1</td><td>0.5774</td><td>1.02934</td><td>926.37</td><td>2747.0</td><td>1.298e+14</td><td>8.032e+13</td><td>2.133e+15</td><td>-3.236e+15</td><td>-3.111e+15</td><td>3.9496e+13</td><td>1.298e+14</td><td>23.35</td><td>-17.5268</td><td>38.9596</td><td>24.3626</td><td>13.8826</td><td>0.76149</td><td>22.0232</td><td>9.80153</td><td>1.4121e+14</td><td>853.83</td><td>1.00231</td><td>853.83</td><td>1.1201e+14</td><td>18.49</td><td>124.89</td><td>-35.19</td><td>2747.0</td><td>0.10074</td><td>0.119294</td><td>8.62862</td><td>2809250167</td><td>1.298e+14</td></tr>\n",
       "<tr><td>777.64</td><td>4401.0</td><td>1.03e+14</td><td>1.00231</td><td>777.64</td><td>1.048e+14</td><td>0.00498</td><td>0.0516998</td><td>0.05031</td><td>0.09677</td><td>1.00231</td><td>0.47302</td><td>1.03e+14</td><td>0.38469</td><td>2820592816</td><td>1.002</td><td>-1</td><td>5.7781e+13</td><td>2809483946</td><td>0.65806</td><td>-1</td><td>0.6152</td><td>0.952978</td><td>831.17</td><td>2747.0</td><td>1.03e+14</td><td>6.42e+13</td><td>1.713e+15</td><td>-1.488e+15</td><td>4.582e+15</td><td>3.0529e+13</td><td>1.03e+14</td><td>98.45</td><td>24.7744</td><td>-10.3568</td><td>38.9949</td><td>36.6788</td><td>0.7881</td><td>12.2979</td><td>34.1809</td><td>1.1511e+14</td><td>777.64</td><td>1.00231</td><td>777.64</td><td>8.2069e+13</td><td>-281.37</td><td>-115.39</td><td>-391.28</td><td>2747.0</td><td>0.10259</td><td>0.132334</td><td>7.20131</td><td>2809483946</td><td>1.03e+14</td></tr>\n",
       "<tr><td>748.56</td><td>11480.0</td><td>9.947e+13</td><td>1.00231</td><td>748.56</td><td>1.076e+14</td><td>0.05989</td><td>0.0779697</td><td>0.0348</td><td>0.12465</td><td>1.00231</td><td>0.47409</td><td>9.947e+13</td><td>0.63275</td><td>2809483946</td><td>1.002</td><td>-1</td><td>5.91e+13</td><td>2809272603</td><td>0.63781</td><td>-1</td><td>0.67</td><td>0.941893</td><td>748.56</td><td>5218.0</td><td>9.947e+13</td><td>7.097e+13</td><td>1.207e+15</td><td>-2.126e+15</td><td>-2.677e+15</td><td>2.6267e+13</td><td>9.947e+13</td><td>118.79</td><td>29.2183</td><td>52.7796</td><td>6.18836</td><td>26.1288</td><td>0.66155</td><td>10.6604</td><td>22.5009</td><td>1.0811e+14</td><td>748.56</td><td>1.00231</td><td>748.56</td><td>8.4337e+13</td><td>-43.87</td><td>292.95</td><td>-171.47</td><td>5218.0</td><td>0.1579</td><td>0.14077</td><td>6.69101</td><td>2809272603</td><td>9.947e+13</td></tr>\n",
       "</table>"
      ],
      "text/plain": [
       "<Table length=5>\n",
       "halo_vmax_firstacc halo_dmvir_dt_tdyn ... halo_hostid halo_mvir_host_halo\n",
       "     float32            float32       ...    int64          float32      \n",
       "------------------ ------------------ ... ----------- -------------------\n",
       "           1001.57            12810.0 ...  2811042639           2.008e+14\n",
       "             895.2            13760.0 ...  2811055606           1.796e+14\n",
       "            853.83             4666.0 ...  2809250167           1.298e+14\n",
       "            777.64             4401.0 ...  2809483946            1.03e+14\n",
       "            748.56            11480.0 ...  2809272603           9.947e+13"
      ]
     },
     "execution_count": 7,
     "metadata": {},
     "output_type": "execute_result"
    }
   ],
   "source": [
    "halocat_bolplanck.halo_table[:5]"
   ]
  },
  {
   "cell_type": "code",
   "execution_count": 8,
   "metadata": {
    "collapsed": false
   },
   "outputs": [],
   "source": [
    "halocat_4038 = CachedHaloCatalog(simname = 'consuelo20', version_name = '0_4038',redshift = 0, \\\n",
    "                            halo_finder = 'rockstar')"
   ]
  },
  {
   "cell_type": "code",
   "execution_count": 9,
   "metadata": {
    "collapsed": true
   },
   "outputs": [],
   "source": [
    "keys_c4038 = halocat_4038.halo_table.keys()"
   ]
  },
  {
   "cell_type": "code",
   "execution_count": 10,
   "metadata": {
    "collapsed": false
   },
   "outputs": [
    {
     "name": "stdout",
     "output_type": "stream",
     "text": [
      "\n",
      "keys missing in 4038:\n",
      "halo_dmvir_dt_tdyn\n",
      "halo_dmvir_dt_100myr\n",
      "halo_halfmass_scale_factor\n",
      "halo_dmvir_dt_inst\n"
     ]
    }
   ],
   "source": [
    "print '\\nkeys missing in 4038:'\n",
    "for name in keys_consuelo:\n",
    "    if name not in keys_c4038:\n",
    "        print name"
   ]
  },
  {
   "cell_type": "code",
   "execution_count": 11,
   "metadata": {
    "collapsed": false
   },
   "outputs": [
    {
     "data": {
      "text/html": [
       "&lt;Table length=5&gt;\n",
       "<table id=\"table140244898885136\" class=\"table-striped table-bordered table-condensed\">\n",
       "<thead><tr><th>halo_upid</th><th>halo_scale_factor</th><th>halo_rvir</th><th>halo_vpeak</th><th>halo_macc</th><th>halo_mpeak</th><th>halo_jx</th><th>halo_jy</th><th>halo_jz</th><th>halo_mvir</th><th>halo_spin</th><th>halo_y</th><th>halo_pid</th><th>halo_x</th><th>halo_z</th><th>halo_vacc</th><th>halo_scale_factor_last_mm</th><th>halo_vmax</th><th>halo_nfw_conc</th><th>halo_id</th><th>halo_vx</th><th>halo_vy</th><th>halo_vz</th><th>halo_vrms</th><th>halo_rs</th><th>halo_hostid</th><th>halo_mvir_host_halo</th></tr></thead>\n",
       "<thead><tr><th>float64</th><th>float64</th><th>float64</th><th>float64</th><th>float64</th><th>float64</th><th>float64</th><th>float64</th><th>float64</th><th>float64</th><th>float64</th><th>float64</th><th>float64</th><th>float64</th><th>float64</th><th>float64</th><th>float64</th><th>float64</th><th>float64</th><th>int64</th><th>float64</th><th>float64</th><th>float64</th><th>float64</th><th>float64</th><th>int64</th><th>float64</th></tr></thead>\n",
       "<tr><td>-1.0</td><td>1.0</td><td>1.527088</td><td>1253.6</td><td>3.9e+14</td><td>3.9e+14</td><td>2.669e+16</td><td>1.777e+16</td><td>-1.062e+16</td><td>3.9e+14</td><td>0.07412</td><td>160.33102</td><td>-1.0</td><td>395.15012</td><td>181.75948</td><td>1253.6</td><td>0.3899</td><td>1253.6</td><td>9.65185789138</td><td>608824631</td><td>97.5</td><td>-94.28</td><td>285.19</td><td>1130.94</td><td>0.158217</td><td>608824631</td><td>3.9e+14</td></tr>\n",
       "<tr><td>-1.0</td><td>1.0</td><td>1.416257</td><td>972.06</td><td>3.111e+14</td><td>3.111e+14</td><td>1.137e+16</td><td>-1.846e+15</td><td>-4.861e+16</td><td>3.111e+14</td><td>0.16051</td><td>149.93251</td><td>-1.0</td><td>401.48401</td><td>186.04437</td><td>972.06</td><td>0.3511</td><td>972.06</td><td>2.16283530463</td><td>608824308</td><td>250.69</td><td>-696.34</td><td>-5.74</td><td>951.24</td><td>0.654815</td><td>608824308</td><td>3.111e+14</td></tr>\n",
       "<tr><td>-1.0</td><td>1.0</td><td>1.36159</td><td>1151.89</td><td>2.765e+14</td><td>2.765e+14</td><td>-5.641e+15</td><td>-1.323e+16</td><td>-2.654e+15</td><td>2.765e+14</td><td>0.05868</td><td>162.56386</td><td>-1.0</td><td>419.785</td><td>253.59302</td><td>1075.52</td><td>0.0</td><td>1075.52</td><td>8.03686739308</td><td>608875532</td><td>81.88</td><td>-60.5</td><td>-111.87</td><td>1040.51</td><td>0.169418</td><td>608875532</td><td>2.765e+14</td></tr>\n",
       "<tr><td>-1.0</td><td>1.0</td><td>1.265741</td><td>1118.19</td><td>2.52272e+14</td><td>2.52272e+14</td><td>7.61e+14</td><td>-1.787e+15</td><td>-7.645e+15</td><td>2.52272e+14</td><td>0.04522</td><td>202.44554</td><td>-1.0</td><td>340.13675</td><td>257.63211</td><td>967.37</td><td>0.8111</td><td>967.37</td><td>6.73908135938</td><td>608875732</td><td>6.04</td><td>7.61</td><td>275.89</td><td>829.72</td><td>0.187821</td><td>608875732</td><td>2.52272e+14</td></tr>\n",
       "<tr><td>-1.0</td><td>1.0</td><td>1.23529</td><td>1015.98</td><td>2.065e+14</td><td>2.065e+14</td><td>1.313e+16</td><td>3.385e+14</td><td>-1.431e+16</td><td>2.065e+14</td><td>0.12448</td><td>144.84813</td><td>-1.0</td><td>393.09549</td><td>199.52295</td><td>880.21</td><td>0.8948</td><td>880.21</td><td>4.1645960953</td><td>608825574</td><td>405.53</td><td>-234.58</td><td>88.96</td><td>865.9</td><td>0.296617</td><td>608825574</td><td>2.065e+14</td></tr>\n",
       "</table>"
      ],
      "text/plain": [
       "<Table length=5>\n",
       "halo_upid halo_scale_factor halo_rvir ... halo_hostid halo_mvir_host_halo\n",
       " float64       float64       float64  ...    int64          float64      \n",
       "--------- ----------------- --------- ... ----------- -------------------\n",
       "     -1.0               1.0  1.527088 ...   608824631             3.9e+14\n",
       "     -1.0               1.0  1.416257 ...   608824308           3.111e+14\n",
       "     -1.0               1.0   1.36159 ...   608875532           2.765e+14\n",
       "     -1.0               1.0  1.265741 ...   608875732         2.52272e+14\n",
       "     -1.0               1.0   1.23529 ...   608825574           2.065e+14"
      ]
     },
     "execution_count": 11,
     "metadata": {},
     "output_type": "execute_result"
    }
   ],
   "source": [
    "halocat_4038.halo_table[:5]"
   ]
  },
  {
   "cell_type": "code",
   "execution_count": 12,
   "metadata": {
    "collapsed": false
   },
   "outputs": [
    {
     "data": {
      "text/plain": [
       "array([ 420.,  420.,  420.])"
      ]
     },
     "execution_count": 12,
     "metadata": {},
     "output_type": "execute_result"
    }
   ],
   "source": [
    "halocat.Lbox"
   ]
  },
  {
   "cell_type": "code",
   "execution_count": 14,
   "metadata": {
    "collapsed": false
   },
   "outputs": [
    {
     "data": {
      "text/plain": [
       "1870000000.0"
      ]
     },
     "execution_count": 14,
     "metadata": {},
     "output_type": "execute_result"
    }
   ],
   "source": [
    "halocat.particle_mass"
   ]
  },
  {
   "cell_type": "code",
   "execution_count": 15,
   "metadata": {
    "collapsed": false
   },
   "outputs": [
    {
     "data": {
      "text/plain": [
       "0.0"
      ]
     },
     "execution_count": 15,
     "metadata": {},
     "output_type": "execute_result"
    }
   ],
   "source": [
    "halocat.redshift"
   ]
  },
  {
   "cell_type": "code",
   "execution_count": null,
   "metadata": {
    "collapsed": true
   },
   "outputs": [],
   "source": []
  }
 ],
 "metadata": {
  "kernelspec": {
   "display_name": "Python [conda root]",
   "language": "python",
   "name": "conda-root-py"
  },
  "language_info": {
   "codemirror_mode": {
    "name": "ipython",
    "version": 2
   },
   "file_extension": ".py",
   "mimetype": "text/x-python",
   "name": "python",
   "nbconvert_exporter": "python",
   "pygments_lexer": "ipython2",
   "version": "2.7.12"
  }
 },
 "nbformat": 4,
 "nbformat_minor": 1
}
